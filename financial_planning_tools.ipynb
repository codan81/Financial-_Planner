{
 "cells": [
  {
   "cell_type": "markdown",
   "metadata": {},
   "source": [
    "# Financial Planning with APIs and Simulations\n",
    "\n",
    "In this Challenge, you’ll create two financial analysis tools by using a single Jupyter notebook:\n",
    "\n",
    "Part 1: A financial planner for emergencies. The members will be able to use this tool to visualize their current savings. The members can then determine if they have enough reserves for an emergency fund.\n",
    "\n",
    "Part 2: A financial planner for retirement. This tool will forecast the performance of their retirement portfolio in 30 years. To do this, the tool will make an Alpaca API call via the Alpaca SDK to get historical price data for use in Monte Carlo simulations.\n",
    "\n",
    "You’ll use the information from the Monte Carlo simulation to answer questions about the portfolio in your Jupyter notebook.\n",
    "\n"
   ]
  },
  {
   "cell_type": "code",
   "execution_count": 1,
   "metadata": {},
   "outputs": [],
   "source": [
    "# Import the required libraries and dependencies\n",
    "import os\n",
    "import requests\n",
    "import json\n",
    "import pandas as pd\n",
    "from dotenv import load_dotenv\n",
    "import alpaca_trade_api as tradeapi\n",
    "from MCForecastTools import MCSimulation\n",
    "\n",
    "%matplotlib inline"
   ]
  },
  {
   "cell_type": "code",
   "execution_count": 2,
   "metadata": {},
   "outputs": [
    {
     "data": {
      "text/plain": [
       "True"
      ]
     },
     "execution_count": 2,
     "metadata": {},
     "output_type": "execute_result"
    }
   ],
   "source": [
    "# Load the environment variables from the .env file\n",
    "#by calling the load_dotenv function\n",
    "load_dotenv()"
   ]
  },
  {
   "cell_type": "markdown",
   "metadata": {},
   "source": [
    "## Part 1: Create a Financial Planner for Emergencies"
   ]
  },
  {
   "cell_type": "markdown",
   "metadata": {},
   "source": [
    "### Evaluate the Cryptocurrency Wallet by Using the Requests Library\n",
    "\n",
    "In this section, you’ll determine the current value of a member’s cryptocurrency wallet. You’ll collect the current prices for the Bitcoin and Ethereum cryptocurrencies by using the Python Requests library. For the prototype, you’ll assume that the member holds the 1.2 Bitcoins (BTC) and 5.3 Ethereum coins (ETH). To do all this, complete the following steps:\n",
    "\n",
    "1. Create a variable named `monthly_income`, and set its value to `12000`.\n",
    "\n",
    "2. Use the Requests library to get the current price (in US dollars) of Bitcoin (BTC) and Ethereum (ETH) by using the API endpoints that the starter code supplies.\n",
    "\n",
    "3. Navigate the JSON response object to access the current price of each coin, and store each in a variable.\n",
    "\n",
    "    > **Hint** Note the specific identifier for each cryptocurrency in the API JSON response. The Bitcoin identifier is `1`, and the Ethereum identifier is `1027`.\n",
    "\n",
    "4. Calculate the value, in US dollars, of the current amount of each cryptocurrency and of the entire cryptocurrency wallet.\n",
    "\n"
   ]
  },
  {
   "cell_type": "code",
   "execution_count": 3,
   "metadata": {},
   "outputs": [],
   "source": [
    "# The current number of coins for each cryptocurrency asset held in the portfolio.\n",
    "btc_coins = 1.2\n",
    "eth_coins = 5.3"
   ]
  },
  {
   "cell_type": "code",
   "execution_count": 4,
   "metadata": {},
   "outputs": [],
   "source": [
    "# The monthly amount for the member's household income\n",
    "monthly_income = 12000\n"
   ]
  },
  {
   "cell_type": "markdown",
   "metadata": {},
   "source": [
    "#### Review the endpoint URLs for the API calls to Free Crypto API in order to get the current pricing information for both BTC and ETH."
   ]
  },
  {
   "cell_type": "code",
   "execution_count": 5,
   "metadata": {},
   "outputs": [],
   "source": [
    "# The Free Crypto API Call endpoint URLs for the held cryptocurrency assets\n",
    "btc_url = \"https://api.alternative.me/v2/ticker/Bitcoin/?convert=USD\"\n",
    "eth_url = \"https://api.alternative.me/v2/ticker/Ethereum/?convert=USD\""
   ]
  },
  {
   "cell_type": "markdown",
   "metadata": {},
   "source": [
    "#### Step 2. Use the Requests library to get the current price (in US dollars) of Bitcoin (BTC) and Ethereum (ETH) by using the API endpoints that the starter code supplied."
   ]
  },
  {
   "cell_type": "code",
   "execution_count": 6,
   "metadata": {},
   "outputs": [
    {
     "name": "stdout",
     "output_type": "stream",
     "text": [
      "{\n",
      "    \"data\": {\n",
      "        \"1\": {\n",
      "            \"circulating_supply\": 18860406,\n",
      "            \"id\": 1,\n",
      "            \"last_updated\": 1635745161,\n",
      "            \"max_supply\": 21000000,\n",
      "            \"name\": \"Bitcoin\",\n",
      "            \"quotes\": {\n",
      "                \"USD\": {\n",
      "                    \"market_cap\": 1137496821020,\n",
      "                    \"percent_change_1h\": 0.262358929644859,\n",
      "                    \"percent_change_24h\": -1.07137474398297,\n",
      "                    \"percent_change_7d\": -0.600948670824814,\n",
      "                    \"percentage_change_1h\": 0.262358929644859,\n",
      "                    \"percentage_change_24h\": -1.07137474398297,\n",
      "                    \"percentage_change_7d\": -0.600948670824814,\n",
      "                    \"price\": 60806.0,\n",
      "                    \"volume_24h\": 32573952851\n",
      "                }\n",
      "            },\n",
      "            \"rank\": 1,\n",
      "            \"symbol\": \"BTC\",\n",
      "            \"total_supply\": 18860406,\n",
      "            \"website_slug\": \"bitcoin\"\n",
      "        }\n",
      "    },\n",
      "    \"metadata\": {\n",
      "        \"error\": null,\n",
      "        \"num_cryptocurrencies\": 3105,\n",
      "        \"timestamp\": 1635745161\n",
      "    }\n",
      "}\n"
     ]
    }
   ],
   "source": [
    "# Using the Python requests library, make an API call to access the current price of BTC\n",
    "btc_response = requests.get(btc_url).json()\n",
    "\n",
    "# Use the json.dumps function to review the response data from the API call\n",
    "# Use the indent and sort_keys parameters to make the response object readable\n",
    "print(json.dumps(btc_response, indent=4, sort_keys=True))\n"
   ]
  },
  {
   "cell_type": "code",
   "execution_count": 7,
   "metadata": {},
   "outputs": [
    {
     "name": "stdout",
     "output_type": "stream",
     "text": [
      "{\n",
      "    \"data\": {\n",
      "        \"1027\": {\n",
      "            \"circulating_supply\": 118159926,\n",
      "            \"id\": 1027,\n",
      "            \"last_updated\": 1635745150,\n",
      "            \"max_supply\": 0,\n",
      "            \"name\": \"Ethereum\",\n",
      "            \"quotes\": {\n",
      "                \"USD\": {\n",
      "                    \"market_cap\": 499320658618,\n",
      "                    \"percent_change_1h\": 0.326692903906823,\n",
      "                    \"percent_change_24h\": -2.06578711591821,\n",
      "                    \"percent_change_7d\": 3.83700045370431,\n",
      "                    \"percentage_change_1h\": 0.326692903906823,\n",
      "                    \"percentage_change_24h\": -2.06578711591821,\n",
      "                    \"percentage_change_7d\": 3.83700045370431,\n",
      "                    \"price\": 4252.06,\n",
      "                    \"volume_24h\": 18630773582\n",
      "                }\n",
      "            },\n",
      "            \"rank\": 2,\n",
      "            \"symbol\": \"ETH\",\n",
      "            \"total_supply\": 118159926,\n",
      "            \"website_slug\": \"ethereum\"\n",
      "        }\n",
      "    },\n",
      "    \"metadata\": {\n",
      "        \"error\": null,\n",
      "        \"num_cryptocurrencies\": 3105,\n",
      "        \"timestamp\": 1635745150\n",
      "    }\n",
      "}\n"
     ]
    }
   ],
   "source": [
    "# Using the Python requests library, make an API call to access the current price ETH\n",
    "eth_response = requests.get(eth_url).json()\n",
    "\n",
    "# Use the json.dumps function to review the response data from the API call\n",
    "# Use the indent and sort_keys parameters to make the response object readable\n",
    "print(json.dumps(eth_response, indent=4, sort_keys=True))\n"
   ]
  },
  {
   "cell_type": "markdown",
   "metadata": {},
   "source": [
    "#### Step 3: Navigate the JSON response object to access the current price of each coin, and store each in a variable."
   ]
  },
  {
   "cell_type": "code",
   "execution_count": 8,
   "metadata": {},
   "outputs": [
    {
     "name": "stdout",
     "output_type": "stream",
     "text": [
      "The current price of Bitcoin is $60806.0\n"
     ]
    }
   ],
   "source": [
    "# Navigate the BTC response object to access the current price of BTC\n",
    "btc_price = btc_response [\"data\"][\"1\"][\"quotes\"][\"USD\"][\"price\"]\n",
    "\n",
    "# Print the current price of BTC\n",
    "print(f\"The current price of Bitcoin is ${btc_price}\")\n"
   ]
  },
  {
   "cell_type": "code",
   "execution_count": 9,
   "metadata": {},
   "outputs": [
    {
     "name": "stdout",
     "output_type": "stream",
     "text": [
      "The current price of Ethereum is $4252.06\n"
     ]
    }
   ],
   "source": [
    "# Navigate the BTC response object to access the current price of ETH\n",
    "eth_price = eth_response [\"data\"][\"1027\"][\"quotes\"][\"USD\"][\"price\"]\n",
    "\n",
    "# Print the current price of ETH\n",
    "print(f\"The current price of Ethereum is ${eth_price}\")"
   ]
  },
  {
   "cell_type": "markdown",
   "metadata": {},
   "source": [
    "### Step 4: Calculate the value, in US dollars, of the current amount of each cryptocurrency and of the entire cryptocurrency wallet."
   ]
  },
  {
   "cell_type": "code",
   "execution_count": 10,
   "metadata": {},
   "outputs": [
    {
     "name": "stdout",
     "output_type": "stream",
     "text": [
      "The current value of holding portfolio in btc is $72967.2\n"
     ]
    }
   ],
   "source": [
    "# Compute the current value of the BTC holding \n",
    "btc_value = btc_price*btc_coins\n",
    "\n",
    "# Print current value of your holding in BTC\n",
    "print(f\"The current value of holding portfolio in btc is ${btc_value}\")\n"
   ]
  },
  {
   "cell_type": "code",
   "execution_count": 11,
   "metadata": {},
   "outputs": [
    {
     "name": "stdout",
     "output_type": "stream",
     "text": [
      "The current value of holding portfolio in eth is $22535.918\n"
     ]
    }
   ],
   "source": [
    "# Compute the current value of the ETH holding \n",
    "eth_value = eth_price*eth_coins\n",
    "# Print current value of your holding in ETH\n",
    "print(f\"The current value of holding portfolio in eth is ${eth_value}\")\n"
   ]
  },
  {
   "cell_type": "code",
   "execution_count": 12,
   "metadata": {},
   "outputs": [
    {
     "name": "stdout",
     "output_type": "stream",
     "text": [
      "The total value of cryptowallet is $95503.118\n"
     ]
    }
   ],
   "source": [
    "# Compute the total value of the cryptocurrency wallet\n",
    "# Add the value of the BTC holding to the value of the ETH holding\n",
    "total_crypto_wallet = btc_value + eth_value\n",
    "\n",
    "# Print current cryptocurrency wallet balance\n",
    "print(f\"The total value of cryptowallet is ${total_crypto_wallet}\")\n"
   ]
  },
  {
   "cell_type": "markdown",
   "metadata": {},
   "source": [
    "### Evaluate the Stock and Bond Holdings by Using the Alpaca SDK\n",
    "\n",
    "In this section, you’ll determine the current value of a member’s stock and bond holdings. You’ll make an API call to Alpaca via the Alpaca SDK to get the current closing prices of the SPDR S&P 500 ETF Trust (ticker: SPY) and of the iShares Core US Aggregate Bond ETF (ticker: AGG). For the prototype, assume that the member holds 110 shares of SPY, which represents the stock portion of their portfolio, and 200 shares of AGG, which represents the bond portion. To do all this, complete the following steps:\n",
    "\n",
    "1. In the `Starter_Code` folder, create an environment file (`.env`) to store the values of your Alpaca API key and Alpaca secret key.\n",
    "\n",
    "2. Set the variables for the Alpaca API and secret keys. Using the Alpaca SDK, create the Alpaca `tradeapi.REST` object. In this object, include the parameters for the Alpaca API key, the secret key, and the version number.\n",
    "\n",
    "3. Set the following parameters for the Alpaca API call:\n",
    "\n",
    "    - `tickers`: Use the tickers for the member’s stock and bond holdings.\n",
    "\n",
    "    - `timeframe`: Use a time frame of one day.\n",
    "\n",
    "    - `start_date` and `end_date`: Use the same date for these parameters, and format them with the date of the previous weekday (or `2020-08-07`). This is because you want the one closing price for the most-recent trading day.\n",
    "\n",
    "4. Get the current closing prices for `SPY` and `AGG` by using the Alpaca `get_barset` function. Format the response as a Pandas DataFrame by including the `df` property at the end of the `get_barset` function.\n",
    "\n",
    "5. Navigating the Alpaca response DataFrame, select the `SPY` and `AGG` closing prices, and store them as variables.\n",
    "\n",
    "6. Calculate the value, in US dollars, of the current amount of shares in each of the stock and bond portions of the portfolio, and print the results.\n"
   ]
  },
  {
   "cell_type": "markdown",
   "metadata": {},
   "source": [
    "#### Review the total number of shares held in both (SPY) and (AGG)."
   ]
  },
  {
   "cell_type": "code",
   "execution_count": 13,
   "metadata": {},
   "outputs": [],
   "source": [
    "# Current amount of shares held in both the stock (SPY) and bond (AGG) portion of the portfolio.\n",
    "spy_shares = 110\n",
    "agg_shares = 200\n"
   ]
  },
  {
   "cell_type": "markdown",
   "metadata": {},
   "source": [
    "#### Step 1: In the `Starter_Code` folder, create an environment file (`.env`) to store the values of your Alpaca API key and Alpaca secret key."
   ]
  },
  {
   "cell_type": "markdown",
   "metadata": {},
   "source": [
    "#### Step 2: Set the variables for the Alpaca API and secret keys. Using the Alpaca SDK, create the Alpaca `tradeapi.REST` object. In this object, include the parameters for the Alpaca API key, the secret key, and the version number."
   ]
  },
  {
   "cell_type": "code",
   "execution_count": 14,
   "metadata": {},
   "outputs": [
    {
     "data": {
      "text/plain": [
       "str"
      ]
     },
     "metadata": {},
     "output_type": "display_data"
    },
    {
     "data": {
      "text/plain": [
       "str"
      ]
     },
     "metadata": {},
     "output_type": "display_data"
    }
   ],
   "source": [
    "# Set the variables for the Alpaca API and secret keys\n",
    "alpaca_api_key = os.getenv(\"ALPACA_API_KEY\")\n",
    "alpaca_secret_key = os.getenv(\"ALPACA_SECRET_KEY\")\n",
    "\n",
    "#Confirmation of importated values \n",
    "display(type(alpaca_api_key))\n",
    "display(type(alpaca_secret_key))\n",
    "\n",
    "\n",
    "# Create the Alpaca tradeapi.REST object\n",
    "alpaca= tradeapi.REST(\n",
    "    alpaca_api_key, alpaca_secret_key, api_version=\"2V\")\n"
   ]
  },
  {
   "cell_type": "markdown",
   "metadata": {},
   "source": [
    "shares_data = {\n",
    "    'shares': [110, 200]\n",
    "}\n",
    "#### Step 3: Set the following parameters for the Alpaca API call:\n",
    "\n",
    "- `tickers`: Use the tickers for the member’s stock and bond holdings.\n",
    "\n",
    "- `timeframe`: Use a time frame of one day.\n",
    "\n",
    "- `start_date` and `end_date`: Use the same date for these parameters, and format them with the date of the previous weekday (or `2020-08-07`). This is because you want the one closing price for the most-recent trading day.\n"
   ]
  },
  {
   "cell_type": "code",
   "execution_count": 15,
   "metadata": {},
   "outputs": [],
   "source": [
    "# Set the tickers for both the bond and stock portion of the portfolio\n",
    "tickers = [\"SPY\", \"AGG\"]\n",
    "\n",
    "# Set timeframe to 1D \n",
    "timeframe=\"1D\"\n",
    "\n",
    "# Format current date as ISO format\n",
    "# Set both the start and end date at the date of your prior weekday \n",
    "# This will give you the closing price of the previous trading day\n",
    "# Alternatively you can use a start and end date of 2020-08-07\n",
    "start_date = pd.Timestamp(\"2021-10-29\", tz = \"America/New_York\").isoformat()\n",
    "end_date = pd.Timestamp(\"2021-10-29\", tz = \"America/New_York\").isoformat()\n",
    "\n"
   ]
  },
  {
   "cell_type": "markdown",
   "metadata": {},
   "source": [
    "#### Step 4: Get the current closing prices for `SPY` and `AGG` by using the Alpaca `get_barset` function. Format the response as a Pandas DataFrame by including the `df` property at the end of the `get_barset` function."
   ]
  },
  {
   "cell_type": "code",
   "execution_count": 16,
   "metadata": {},
   "outputs": [
    {
     "data": {
      "text/html": [
       "<div>\n",
       "<style scoped>\n",
       "    .dataframe tbody tr th:only-of-type {\n",
       "        vertical-align: middle;\n",
       "    }\n",
       "\n",
       "    .dataframe tbody tr th {\n",
       "        vertical-align: top;\n",
       "    }\n",
       "\n",
       "    .dataframe thead tr th {\n",
       "        text-align: left;\n",
       "    }\n",
       "\n",
       "    .dataframe thead tr:last-of-type th {\n",
       "        text-align: right;\n",
       "    }\n",
       "</style>\n",
       "<table border=\"1\" class=\"dataframe\">\n",
       "  <thead>\n",
       "    <tr>\n",
       "      <th></th>\n",
       "      <th colspan=\"5\" halign=\"left\">AGG</th>\n",
       "      <th colspan=\"5\" halign=\"left\">SPY</th>\n",
       "    </tr>\n",
       "    <tr>\n",
       "      <th></th>\n",
       "      <th>open</th>\n",
       "      <th>high</th>\n",
       "      <th>low</th>\n",
       "      <th>close</th>\n",
       "      <th>volume</th>\n",
       "      <th>open</th>\n",
       "      <th>high</th>\n",
       "      <th>low</th>\n",
       "      <th>close</th>\n",
       "      <th>volume</th>\n",
       "    </tr>\n",
       "    <tr>\n",
       "      <th>time</th>\n",
       "      <th></th>\n",
       "      <th></th>\n",
       "      <th></th>\n",
       "      <th></th>\n",
       "      <th></th>\n",
       "      <th></th>\n",
       "      <th></th>\n",
       "      <th></th>\n",
       "      <th></th>\n",
       "      <th></th>\n",
       "    </tr>\n",
       "  </thead>\n",
       "  <tbody>\n",
       "    <tr>\n",
       "      <th>2021-10-29 00:00:00-04:00</th>\n",
       "      <td>114.35</td>\n",
       "      <td>114.78</td>\n",
       "      <td>114.35</td>\n",
       "      <td>114.62</td>\n",
       "      <td>7051614</td>\n",
       "      <td>455.87</td>\n",
       "      <td>459.56</td>\n",
       "      <td>455.56</td>\n",
       "      <td>459.22</td>\n",
       "      <td>58813207</td>\n",
       "    </tr>\n",
       "  </tbody>\n",
       "</table>\n",
       "</div>"
      ],
      "text/plain": [
       "                              AGG                                      SPY  \\\n",
       "                             open    high     low   close   volume    open   \n",
       "time                                                                         \n",
       "2021-10-29 00:00:00-04:00  114.35  114.78  114.35  114.62  7051614  455.87   \n",
       "\n",
       "                                                             \n",
       "                             high     low   close    volume  \n",
       "time                                                         \n",
       "2021-10-29 00:00:00-04:00  459.56  455.56  459.22  58813207  "
      ]
     },
     "execution_count": 16,
     "metadata": {},
     "output_type": "execute_result"
    }
   ],
   "source": [
    "# Use the Alpaca get_barset function to get current closing prices the portfolio\n",
    "# Be sure to set the `df` property after the function to format the response object as a DataFrame\n",
    "stocks_portfolio_df = alpaca.get_barset(\n",
    "    tickers,\n",
    "    timeframe,\n",
    "    start = start_date,\n",
    "    end = end_date\n",
    ").df\n",
    "\n",
    "# Review the first 5 rows of the Alpaca DataFrame\n",
    "stocks_portfolio_df.head()\n"
   ]
  },
  {
   "cell_type": "markdown",
   "metadata": {},
   "source": [
    "#### Step 5: Navigating the Alpaca response DataFrame, select the `SPY` and `AGG` closing prices, and store them as variables."
   ]
  },
  {
   "cell_type": "code",
   "execution_count": 17,
   "metadata": {},
   "outputs": [
    {
     "name": "stdout",
     "output_type": "stream",
     "text": [
      " the closing price of AGG is $114.62\n"
     ]
    }
   ],
   "source": [
    "# Access the closing price for AGG from the Alpaca DataFrame\n",
    "# Converting the value to a floating point number\n",
    "agg_close_price = float(stocks_portfolio_df [\"AGG\"][\"close\"])\n",
    "\n",
    "# Print the AGG closing price\n",
    "print (f\" the closing price of AGG is ${agg_close_price}\")\n"
   ]
  },
  {
   "cell_type": "code",
   "execution_count": 18,
   "metadata": {},
   "outputs": [
    {
     "name": "stdout",
     "output_type": "stream",
     "text": [
      " the closing price of SPY is $459.22\n"
     ]
    }
   ],
   "source": [
    "# Access the closing price for SPY from the Alpaca DataFrame\n",
    "# Converting the value to a floating point number\n",
    "spy_close_price = float(stocks_portfolio_df [\"SPY\"][\"close\"])\n",
    "\n",
    "# Print the SPY closing price\n",
    "print (f\" the closing price of SPY is ${spy_close_price}\")\n"
   ]
  },
  {
   "cell_type": "markdown",
   "metadata": {},
   "source": [
    "#### Step 6: Calculate the value, in US dollars, of the current amount of shares in each of the stock and bond portions of the portfolio, and print the results."
   ]
  },
  {
   "cell_type": "code",
   "execution_count": 19,
   "metadata": {},
   "outputs": [
    {
     "name": "stdout",
     "output_type": "stream",
     "text": [
      "The current value of the 200 AGG shares is $22924.00\n"
     ]
    }
   ],
   "source": [
    "# Calculate the current value of the bond portion of the portfolio\n",
    "agg_value = agg_close_price * agg_shares\n",
    "\n",
    "# Print the current value of the bond portfolio\n",
    "print(f\"The current value of the {agg_shares} AGG shares is ${agg_value:0.2f}\")\n"
   ]
  },
  {
   "cell_type": "code",
   "execution_count": 20,
   "metadata": {},
   "outputs": [
    {
     "name": "stdout",
     "output_type": "stream",
     "text": [
      "The current value of the 110 SPY shares is $50514.20\n"
     ]
    }
   ],
   "source": [
    "# Calculate the current value of the stock portion of the portfolio\n",
    "spy_value = spy_close_price * spy_shares\n",
    "\n",
    "# Print the current value of the stock portfolio\n",
    "print(f\"The current value of the {spy_shares} SPY shares is ${spy_value:0.2f}\")\n"
   ]
  },
  {
   "cell_type": "code",
   "execution_count": 21,
   "metadata": {},
   "outputs": [
    {
     "name": "stdout",
     "output_type": "stream",
     "text": [
      "The current the current balance of the stock and bond portion of the portfolio is $73438.20\n"
     ]
    }
   ],
   "source": [
    "# Calculate the total value of the stock and bond portion of the portfolio\n",
    "total_stocks_bonds = agg_value + spy_value\n",
    "\n",
    "# Print the current balance of the stock and bond portion of the portfolio\n",
    "print(f\"The current the current balance of the stock and bond portion of the portfolio is ${total_stocks_bonds:0.2f}\")\n"
   ]
  },
  {
   "cell_type": "code",
   "execution_count": 22,
   "metadata": {},
   "outputs": [
    {
     "name": "stdout",
     "output_type": "stream",
     "text": [
      "the total portfolio is $168941.32\n",
      "the current cryptocurrency wallet balance is $95503.12\n"
     ]
    }
   ],
   "source": [
    "# Calculate the total value of the member's entire savings portfolio\n",
    "# Add the value of the cryptocurrency walled to the value of the total stocks and bonds\n",
    "total_portfolio = total_crypto_wallet + total_stocks_bonds\n",
    "\n",
    "# Print total value value of the member's entire savings portfolio\n",
    "print (f\"the total portfolio is ${total_portfolio :0.2f}\")\n",
    "# Print current cryptocurrency wallet balance\n",
    "print (f\"the current cryptocurrency wallet balance is ${ total_crypto_wallet:0.2f}\")"
   ]
  },
  {
   "cell_type": "markdown",
   "metadata": {},
   "source": [
    "### Evaluate the Emergency Fund\n",
    "\n",
    "In this section, you’ll use the valuations for the cryptocurrency wallet and for the stock and bond portions of the portfolio to determine if the credit union member has enough savings to build an emergency fund into their financial plan. To do this, complete the following steps:\n",
    "\n",
    "1. Create a Python list named `savings_data` that has two elements. The first element contains the total value of the cryptocurrency wallet. The second element contains the total value of the stock and bond portions of the portfolio.\n",
    "\n",
    "2. Use the `savings_data` list to create a Pandas DataFrame named `savings_df`, and then display this DataFrame. The function to create the DataFrame should take the following three parameters:\n",
    "\n",
    "    - `savings_data`: Use the list that you just created.\n",
    "\n",
    "    - `columns`: Set this parameter equal to a Python list with a single value called `amount`.\n",
    "\n",
    "    - `index`: Set this parameter equal to a Python list with the values of `crypto` and `stock/bond`.\n",
    "\n",
    "3. Use the `savings_df` DataFrame to plot a pie chart that visualizes the composition of the member’s portfolio. The y-axis of the pie chart uses `amount`. Be sure to add a title.\n",
    "\n",
    "4. Using Python, determine if the current portfolio has enough to create an emergency fund as part of the member’s financial plan. Ideally, an emergency fund should equal to three times the member’s monthly income. To do this, implement the following steps:\n",
    "\n",
    "    1. Create a variable named `emergency_fund_value`, and set it equal to three times the value of the member’s `monthly_income` of $12000. (You set this earlier in Part 1).\n",
    "\n",
    "    2. Create a series of three if statements to determine if the member’s total portfolio is large enough to fund the emergency portfolio:\n",
    "\n",
    "        1. If the total portfolio value is greater than the emergency fund value, display a message congratulating the member for having enough money in this fund.\n",
    "\n",
    "        2. Else if the total portfolio value is equal to the emergency fund value, display a message congratulating the member on reaching this important financial goal.\n",
    "\n",
    "        3. Else the total portfolio is less than the emergency fund value, so display a message showing how many dollars away the member is from reaching the goal. (Subtract the total portfolio value from the emergency fund value.)\n"
   ]
  },
  {
   "cell_type": "markdown",
   "metadata": {},
   "source": [
    "#### Step 1: Create a Python list named `savings_data` that has two elements. The first element contains the total value of the cryptocurrency wallet. The second element contains the total value of the stock and bond portions of the portfolio."
   ]
  },
  {
   "cell_type": "code",
   "execution_count": 23,
   "metadata": {},
   "outputs": [
    {
     "data": {
      "text/plain": [
       "[95503.118, 73438.20000000001]"
      ]
     },
     "execution_count": 23,
     "metadata": {},
     "output_type": "execute_result"
    }
   ],
   "source": [
    "# Consolidate financial assets data into a Python list\n",
    "savings_data = [total_crypto_wallet] + [total_stocks_bonds]\n",
    "\n",
    "# Review the Python list savings_data\n",
    "savings_data\n",
    "\n"
   ]
  },
  {
   "cell_type": "markdown",
   "metadata": {},
   "source": [
    "#### Step 2: Use the `savings_data` list to create a Pandas DataFrame named `savings_df`, and then display this DataFrame. The function to create the DataFrame should take the following three parameters:\n",
    "\n",
    "- `savings_data`: Use the list that you just created.\n",
    "\n",
    "- `columns`: Set this parameter equal to a Python list with a single value called `amount`.\n",
    "\n",
    "- `index`: Set this parameter equal to a Python list with the values of `crypto` and `stock/bond`.\n"
   ]
  },
  {
   "cell_type": "code",
   "execution_count": 24,
   "metadata": {},
   "outputs": [
    {
     "data": {
      "text/html": [
       "<div>\n",
       "<style scoped>\n",
       "    .dataframe tbody tr th:only-of-type {\n",
       "        vertical-align: middle;\n",
       "    }\n",
       "\n",
       "    .dataframe tbody tr th {\n",
       "        vertical-align: top;\n",
       "    }\n",
       "\n",
       "    .dataframe thead th {\n",
       "        text-align: right;\n",
       "    }\n",
       "</style>\n",
       "<table border=\"1\" class=\"dataframe\">\n",
       "  <thead>\n",
       "    <tr style=\"text-align: right;\">\n",
       "      <th></th>\n",
       "      <th>amount</th>\n",
       "    </tr>\n",
       "  </thead>\n",
       "  <tbody>\n",
       "    <tr>\n",
       "      <th>total_crypto_wallet</th>\n",
       "      <td>95503.118</td>\n",
       "    </tr>\n",
       "    <tr>\n",
       "      <th>total_stocks_bonds</th>\n",
       "      <td>73438.200</td>\n",
       "    </tr>\n",
       "  </tbody>\n",
       "</table>\n",
       "</div>"
      ],
      "text/plain": [
       "                        amount\n",
       "total_crypto_wallet  95503.118\n",
       "total_stocks_bonds   73438.200"
      ]
     },
     "execution_count": 24,
     "metadata": {},
     "output_type": "execute_result"
    }
   ],
   "source": [
    "# Create a Pandas DataFrame called savings_df \n",
    "savings_df = pd.DataFrame(savings_data, index=[\"total_crypto_wallet\", \"total_stocks_bonds\"], columns= [\"amount\"])\n",
    "\n",
    "\n",
    "\n",
    "\n",
    "# Display the savings_df DataFrame\n",
    "savings_df\n",
    "\n"
   ]
  },
  {
   "cell_type": "markdown",
   "metadata": {},
   "source": [
    "#### Step 3: Use the `savings_df` DataFrame to plot a pie chart that visualizes the composition of the member’s portfolio. The y-axis of the pie chart uses `amount`. Be sure to add a title."
   ]
  },
  {
   "cell_type": "code",
   "execution_count": 25,
   "metadata": {},
   "outputs": [
    {
     "data": {
      "text/plain": [
       "array([<AxesSubplot:ylabel='amount'>], dtype=object)"
      ]
     },
     "execution_count": 25,
     "metadata": {},
     "output_type": "execute_result"
    },
    {
     "data": {
      "image/png": "[encoded data removed]",
      "text/plain": [
       "<Figure size 792x432 with 1 Axes>"
      ]
     },
     "metadata": {},
     "output_type": "display_data"
    }
   ],
   "source": [
    "# Plot the total value of the member's portfolio (crypto and stock/bond) in a pie chart\n",
    "savings_df.plot.pie(subplots=True, figsize=(11, 6))\n",
    "\n"
   ]
  },
  {
   "cell_type": "markdown",
   "metadata": {},
   "source": [
    "#### Step 4: Using Python, determine if the current portfolio has enough to create an emergency fund as part of the member’s financial plan. Ideally, an emergency fund should equal to three times the member’s monthly income. To do this, implement the following steps:\n",
    "\n",
    "Step 1. Create a variable named `emergency_fund_value`, and set it equal to three times the value of the member’s `monthly_income` of 12000. (You set this earlier in Part 1).\n",
    "\n",
    "Step 2. Create a series of three if statements to determine if the member’s total portfolio is large enough to fund the emergency portfolio:\n",
    "\n",
    "* If the total portfolio value is greater than the emergency fund value, display a message congratulating the member for having enough money in this fund.\n",
    "\n",
    "* Else if the total portfolio value is equal to the emergency fund value, display a message congratulating the member on reaching this important financial goal.\n",
    "\n",
    "* Else the total portfolio is less than the emergency fund value, so display a message showing how many dollars away the member is from reaching the goal. (Subtract the total portfolio value from the emergency fund value.)\n"
   ]
  },
  {
   "cell_type": "markdown",
   "metadata": {},
   "source": [
    "##### Step 4-1: Create a variable named `emergency_fund_value`, and set it equal to three times the value of the member’s `monthly_income` of 12000. (You set this earlier in Part 1)."
   ]
  },
  {
   "cell_type": "code",
   "execution_count": 26,
   "metadata": {},
   "outputs": [],
   "source": [
    "# Create a variable named emergency_fund_value\n",
    "emergency_fund_value = 3 * monthly_income \n"
   ]
  },
  {
   "cell_type": "markdown",
   "metadata": {},
   "source": [
    "##### Step 4-2: Create a series of three if statements to determine if the member’s total portfolio is large enough to fund the emergency portfolio:\n",
    "\n",
    "* If the total portfolio value is greater than the emergency fund value, display a message congratulating the member for having enough money in this fund.\n",
    "\n",
    "* Else if the total portfolio value is equal to the emergency fund value, display a message congratulating the member on reaching this important financial goal.\n",
    "\n",
    "* Else the total portfolio is less than the emergency fund value, so display a message showing how many dollars away the member is from reaching the goal. (Subtract the total portfolio value from the emergency fund value.)"
   ]
  },
  {
   "cell_type": "code",
   "execution_count": 27,
   "metadata": {},
   "outputs": [
    {
     "name": "stdout",
     "output_type": "stream",
     "text": [
      "Congrats you're doing great\n"
     ]
    }
   ],
   "source": [
    "# Evaluate the possibility of creating an emergency fund with 3 conditions:\n",
    "if total_portfolio > emergency_fund_value:\n",
    "    print(\"Congrats you're doing great\")\n",
    "    \n",
    "elif total_portfolio == emergency_fund_value:\n",
    "    print(\"Congrats you reached yor financial goal keep going\")\n",
    "    \n"
   ]
  },
  {
   "cell_type": "markdown",
   "metadata": {},
   "source": [
    "## Part 2: Create a Financial Planner for Retirement"
   ]
  },
  {
   "cell_type": "markdown",
   "metadata": {},
   "source": [
    "### Create the Monte Carlo Simulation\n",
    "\n",
    "In this section, you’ll use the MCForecastTools library to create a Monte Carlo simulation for the member’s savings portfolio. To do this, complete the following steps:\n",
    "\n",
    "1. Make an API call via the Alpaca SDK to get 3 years of historical closing prices for a traditional 60/40 portfolio split: 60% stocks (SPY) and 40% bonds (AGG).\n",
    "\n",
    "2. Run a Monte Carlo simulation of 500 samples and 30 years for the 60/40 portfolio, and then plot the results.The following image shows the overlay line plot resulting from a simulation with these characteristics. However, because a random number generator is used to run each live Monte Carlo simulation, your image will differ slightly from this exact image:\n",
    "\n",
    "![A screenshot depicts the resulting plot.](Images/5-4-monte-carlo-line-plot.png)\n",
    "\n",
    "3. Plot the probability distribution of the Monte Carlo simulation. Plot the probability distribution of the Monte Carlo simulation. The following image shows the histogram plot resulting from a simulation with these characteristics. However, because a random number generator is used to run each live Monte Carlo simulation, your image will differ slightly from this exact image:\n",
    "\n",
    "![A screenshot depicts the histogram plot.](Images/5-4-monte-carlo-histogram.png)\n",
    "\n",
    "4. Generate the summary statistics for the Monte Carlo simulation.\n",
    "\n"
   ]
  },
  {
   "cell_type": "markdown",
   "metadata": {},
   "source": [
    "#### Step 1: Make an API call via the Alpaca SDK to get 3 years of historical closing prices for a traditional 60/40 portfolio split: 60% stocks (SPY) and 40% bonds (AGG)."
   ]
  },
  {
   "cell_type": "code",
   "execution_count": 28,
   "metadata": {},
   "outputs": [],
   "source": [
    "# Set start and end dates of 3 years back from your current date\n",
    "# Alternatively, you can use an end date of 2020-08-07 and work 3 years back from that date \n",
    "start_date = pd.Timestamp(\"2019-10-29\", tz = \"America/New_York\").isoformat()\n",
    "end_date = pd.Timestamp(\"2021-10-29\", tz = \"America/New_York\").isoformat()\n",
    "\n",
    "# Set number of rows to 1000 to retrieve the maximum amount of rows\n",
    "limit_rows = 1000"
   ]
  },
  {
   "cell_type": "code",
   "execution_count": 29,
   "metadata": {},
   "outputs": [
    {
     "data": {
      "text/html": [
       "<div>\n",
       "<style scoped>\n",
       "    .dataframe tbody tr th:only-of-type {\n",
       "        vertical-align: middle;\n",
       "    }\n",
       "\n",
       "    .dataframe tbody tr th {\n",
       "        vertical-align: top;\n",
       "    }\n",
       "\n",
       "    .dataframe thead tr th {\n",
       "        text-align: left;\n",
       "    }\n",
       "\n",
       "    .dataframe thead tr:last-of-type th {\n",
       "        text-align: right;\n",
       "    }\n",
       "</style>\n",
       "<table border=\"1\" class=\"dataframe\">\n",
       "  <thead>\n",
       "    <tr>\n",
       "      <th></th>\n",
       "      <th colspan=\"5\" halign=\"left\">AGG</th>\n",
       "      <th colspan=\"5\" halign=\"left\">SPY</th>\n",
       "    </tr>\n",
       "    <tr>\n",
       "      <th></th>\n",
       "      <th>open</th>\n",
       "      <th>high</th>\n",
       "      <th>low</th>\n",
       "      <th>close</th>\n",
       "      <th>volume</th>\n",
       "      <th>open</th>\n",
       "      <th>high</th>\n",
       "      <th>low</th>\n",
       "      <th>close</th>\n",
       "      <th>volume</th>\n",
       "    </tr>\n",
       "    <tr>\n",
       "      <th>time</th>\n",
       "      <th></th>\n",
       "      <th></th>\n",
       "      <th></th>\n",
       "      <th></th>\n",
       "      <th></th>\n",
       "      <th></th>\n",
       "      <th></th>\n",
       "      <th></th>\n",
       "      <th></th>\n",
       "      <th></th>\n",
       "    </tr>\n",
       "  </thead>\n",
       "  <tbody>\n",
       "    <tr>\n",
       "      <th>2019-10-29 00:00:00-04:00</th>\n",
       "      <td>112.4800</td>\n",
       "      <td>112.500</td>\n",
       "      <td>112.345</td>\n",
       "      <td>112.40</td>\n",
       "      <td>2018500</td>\n",
       "      <td>303.00</td>\n",
       "      <td>304.23</td>\n",
       "      <td>302.86</td>\n",
       "      <td>303.20</td>\n",
       "      <td>38915074</td>\n",
       "    </tr>\n",
       "    <tr>\n",
       "      <th>2019-10-30 00:00:00-04:00</th>\n",
       "      <td>112.4500</td>\n",
       "      <td>112.750</td>\n",
       "      <td>112.430</td>\n",
       "      <td>112.74</td>\n",
       "      <td>2139127</td>\n",
       "      <td>303.43</td>\n",
       "      <td>304.55</td>\n",
       "      <td>301.99</td>\n",
       "      <td>304.14</td>\n",
       "      <td>40022810</td>\n",
       "    </tr>\n",
       "    <tr>\n",
       "      <th>2019-10-31 00:00:00-04:00</th>\n",
       "      <td>113.2062</td>\n",
       "      <td>113.300</td>\n",
       "      <td>113.130</td>\n",
       "      <td>113.16</td>\n",
       "      <td>2700223</td>\n",
       "      <td>302.22</td>\n",
       "      <td>303.39</td>\n",
       "      <td>301.85</td>\n",
       "      <td>303.26</td>\n",
       "      <td>39406638</td>\n",
       "    </tr>\n",
       "    <tr>\n",
       "      <th>2019-11-01 00:00:00-04:00</th>\n",
       "      <td>112.9800</td>\n",
       "      <td>113.105</td>\n",
       "      <td>112.805</td>\n",
       "      <td>112.94</td>\n",
       "      <td>3631207</td>\n",
       "      <td>304.92</td>\n",
       "      <td>306.19</td>\n",
       "      <td>304.74</td>\n",
       "      <td>306.18</td>\n",
       "      <td>56134595</td>\n",
       "    </tr>\n",
       "    <tr>\n",
       "      <th>2019-11-04 00:00:00-05:00</th>\n",
       "      <td>112.7100</td>\n",
       "      <td>112.720</td>\n",
       "      <td>112.590</td>\n",
       "      <td>112.63</td>\n",
       "      <td>2405029</td>\n",
       "      <td>307.85</td>\n",
       "      <td>308.00</td>\n",
       "      <td>306.96</td>\n",
       "      <td>307.34</td>\n",
       "      <td>51277730</td>\n",
       "    </tr>\n",
       "  </tbody>\n",
       "</table>\n",
       "</div>"
      ],
      "text/plain": [
       "                                AGG                                     \\\n",
       "                               open     high      low   close   volume   \n",
       "time                                                                     \n",
       "2019-10-29 00:00:00-04:00  112.4800  112.500  112.345  112.40  2018500   \n",
       "2019-10-30 00:00:00-04:00  112.4500  112.750  112.430  112.74  2139127   \n",
       "2019-10-31 00:00:00-04:00  113.2062  113.300  113.130  113.16  2700223   \n",
       "2019-11-01 00:00:00-04:00  112.9800  113.105  112.805  112.94  3631207   \n",
       "2019-11-04 00:00:00-05:00  112.7100  112.720  112.590  112.63  2405029   \n",
       "\n",
       "                              SPY                                    \n",
       "                             open    high     low   close    volume  \n",
       "time                                                                 \n",
       "2019-10-29 00:00:00-04:00  303.00  304.23  302.86  303.20  38915074  \n",
       "2019-10-30 00:00:00-04:00  303.43  304.55  301.99  304.14  40022810  \n",
       "2019-10-31 00:00:00-04:00  302.22  303.39  301.85  303.26  39406638  \n",
       "2019-11-01 00:00:00-04:00  304.92  306.19  304.74  306.18  56134595  \n",
       "2019-11-04 00:00:00-05:00  307.85  308.00  306.96  307.34  51277730  "
      ]
     },
     "metadata": {},
     "output_type": "display_data"
    },
    {
     "data": {
      "text/html": [
       "<div>\n",
       "<style scoped>\n",
       "    .dataframe tbody tr th:only-of-type {\n",
       "        vertical-align: middle;\n",
       "    }\n",
       "\n",
       "    .dataframe tbody tr th {\n",
       "        vertical-align: top;\n",
       "    }\n",
       "\n",
       "    .dataframe thead tr th {\n",
       "        text-align: left;\n",
       "    }\n",
       "\n",
       "    .dataframe thead tr:last-of-type th {\n",
       "        text-align: right;\n",
       "    }\n",
       "</style>\n",
       "<table border=\"1\" class=\"dataframe\">\n",
       "  <thead>\n",
       "    <tr>\n",
       "      <th></th>\n",
       "      <th colspan=\"5\" halign=\"left\">AGG</th>\n",
       "      <th colspan=\"5\" halign=\"left\">SPY</th>\n",
       "    </tr>\n",
       "    <tr>\n",
       "      <th></th>\n",
       "      <th>open</th>\n",
       "      <th>high</th>\n",
       "      <th>low</th>\n",
       "      <th>close</th>\n",
       "      <th>volume</th>\n",
       "      <th>open</th>\n",
       "      <th>high</th>\n",
       "      <th>low</th>\n",
       "      <th>close</th>\n",
       "      <th>volume</th>\n",
       "    </tr>\n",
       "    <tr>\n",
       "      <th>time</th>\n",
       "      <th></th>\n",
       "      <th></th>\n",
       "      <th></th>\n",
       "      <th></th>\n",
       "      <th></th>\n",
       "      <th></th>\n",
       "      <th></th>\n",
       "      <th></th>\n",
       "      <th></th>\n",
       "      <th></th>\n",
       "    </tr>\n",
       "  </thead>\n",
       "  <tbody>\n",
       "    <tr>\n",
       "      <th>2021-10-25 00:00:00-04:00</th>\n",
       "      <td>114.06</td>\n",
       "      <td>114.270</td>\n",
       "      <td>114.060</td>\n",
       "      <td>114.17</td>\n",
       "      <td>7088133</td>\n",
       "      <td>454.28</td>\n",
       "      <td>455.90</td>\n",
       "      <td>452.39</td>\n",
       "      <td>455.48</td>\n",
       "      <td>37918548</td>\n",
       "    </tr>\n",
       "    <tr>\n",
       "      <th>2021-10-26 00:00:00-04:00</th>\n",
       "      <td>114.25</td>\n",
       "      <td>114.380</td>\n",
       "      <td>114.110</td>\n",
       "      <td>114.37</td>\n",
       "      <td>5284755</td>\n",
       "      <td>457.20</td>\n",
       "      <td>458.49</td>\n",
       "      <td>455.56</td>\n",
       "      <td>455.97</td>\n",
       "      <td>49865704</td>\n",
       "    </tr>\n",
       "    <tr>\n",
       "      <th>2021-10-27 00:00:00-04:00</th>\n",
       "      <td>114.66</td>\n",
       "      <td>114.915</td>\n",
       "      <td>114.425</td>\n",
       "      <td>114.77</td>\n",
       "      <td>6817074</td>\n",
       "      <td>456.45</td>\n",
       "      <td>457.16</td>\n",
       "      <td>453.86</td>\n",
       "      <td>453.92</td>\n",
       "      <td>48219255</td>\n",
       "    </tr>\n",
       "    <tr>\n",
       "      <th>2021-10-28 00:00:00-04:00</th>\n",
       "      <td>114.71</td>\n",
       "      <td>114.825</td>\n",
       "      <td>114.570</td>\n",
       "      <td>114.65</td>\n",
       "      <td>4971007</td>\n",
       "      <td>455.46</td>\n",
       "      <td>458.40</td>\n",
       "      <td>455.45</td>\n",
       "      <td>458.27</td>\n",
       "      <td>43081788</td>\n",
       "    </tr>\n",
       "    <tr>\n",
       "      <th>2021-10-29 00:00:00-04:00</th>\n",
       "      <td>114.35</td>\n",
       "      <td>114.780</td>\n",
       "      <td>114.350</td>\n",
       "      <td>114.62</td>\n",
       "      <td>7051614</td>\n",
       "      <td>455.87</td>\n",
       "      <td>459.56</td>\n",
       "      <td>455.56</td>\n",
       "      <td>459.22</td>\n",
       "      <td>58813207</td>\n",
       "    </tr>\n",
       "  </tbody>\n",
       "</table>\n",
       "</div>"
      ],
      "text/plain": [
       "                              AGG                                        SPY  \\\n",
       "                             open     high      low   close   volume    open   \n",
       "time                                                                           \n",
       "2021-10-25 00:00:00-04:00  114.06  114.270  114.060  114.17  7088133  454.28   \n",
       "2021-10-26 00:00:00-04:00  114.25  114.380  114.110  114.37  5284755  457.20   \n",
       "2021-10-27 00:00:00-04:00  114.66  114.915  114.425  114.77  6817074  456.45   \n",
       "2021-10-28 00:00:00-04:00  114.71  114.825  114.570  114.65  4971007  455.46   \n",
       "2021-10-29 00:00:00-04:00  114.35  114.780  114.350  114.62  7051614  455.87   \n",
       "\n",
       "                                                             \n",
       "                             high     low   close    volume  \n",
       "time                                                         \n",
       "2021-10-25 00:00:00-04:00  455.90  452.39  455.48  37918548  \n",
       "2021-10-26 00:00:00-04:00  458.49  455.56  455.97  49865704  \n",
       "2021-10-27 00:00:00-04:00  457.16  453.86  453.92  48219255  \n",
       "2021-10-28 00:00:00-04:00  458.40  455.45  458.27  43081788  \n",
       "2021-10-29 00:00:00-04:00  459.56  455.56  459.22  58813207  "
      ]
     },
     "metadata": {},
     "output_type": "display_data"
    }
   ],
   "source": [
    "# Use the Alpaca get_barset function to make the API call to get the 3 years worth of pricing data\n",
    "# The tickers and timeframe parameters should have been set in Part 1 of this activity \n",
    "# The start and end dates should be updated with the information set above\n",
    "# Remember to add the df property to the end of the call so the response is returned as a DataFrame\n",
    "stocks_portfolio_df = alpaca.get_barset(\n",
    "    tickers,\n",
    "    timeframe,\n",
    "    start=start_date,\n",
    "    end=end_date,\n",
    "    limit = limit_rows\n",
    ").df\n",
    "\n",
    "# Display both the first and last five rows of the DataFrame\n",
    "display(stocks_portfolio_df.head())\n",
    "display(stocks_portfolio_df.tail())\n"
   ]
  },
  {
   "cell_type": "markdown",
   "metadata": {},
   "source": [
    "#### Step 2: Run a Monte Carlo simulation of 500 samples and 30 years for the 60/40 portfolio, and then plot the results."
   ]
  },
  {
   "cell_type": "code",
   "execution_count": 30,
   "metadata": {},
   "outputs": [
    {
     "data": {
      "text/html": [
       "<div>\n",
       "<style scoped>\n",
       "    .dataframe tbody tr th:only-of-type {\n",
       "        vertical-align: middle;\n",
       "    }\n",
       "\n",
       "    .dataframe tbody tr th {\n",
       "        vertical-align: top;\n",
       "    }\n",
       "\n",
       "    .dataframe thead tr th {\n",
       "        text-align: left;\n",
       "    }\n",
       "\n",
       "    .dataframe thead tr:last-of-type th {\n",
       "        text-align: right;\n",
       "    }\n",
       "</style>\n",
       "<table border=\"1\" class=\"dataframe\">\n",
       "  <thead>\n",
       "    <tr>\n",
       "      <th></th>\n",
       "      <th colspan=\"6\" halign=\"left\">AGG</th>\n",
       "      <th colspan=\"6\" halign=\"left\">SPY</th>\n",
       "    </tr>\n",
       "    <tr>\n",
       "      <th></th>\n",
       "      <th>open</th>\n",
       "      <th>high</th>\n",
       "      <th>low</th>\n",
       "      <th>close</th>\n",
       "      <th>volume</th>\n",
       "      <th>daily_return</th>\n",
       "      <th>open</th>\n",
       "      <th>high</th>\n",
       "      <th>low</th>\n",
       "      <th>close</th>\n",
       "      <th>volume</th>\n",
       "      <th>daily_return</th>\n",
       "    </tr>\n",
       "    <tr>\n",
       "      <th>time</th>\n",
       "      <th></th>\n",
       "      <th></th>\n",
       "      <th></th>\n",
       "      <th></th>\n",
       "      <th></th>\n",
       "      <th></th>\n",
       "      <th></th>\n",
       "      <th></th>\n",
       "      <th></th>\n",
       "      <th></th>\n",
       "      <th></th>\n",
       "      <th></th>\n",
       "    </tr>\n",
       "  </thead>\n",
       "  <tbody>\n",
       "    <tr>\n",
       "      <th>2019-10-29 00:00:00-04:00</th>\n",
       "      <td>112.4800</td>\n",
       "      <td>112.500</td>\n",
       "      <td>112.345</td>\n",
       "      <td>112.40</td>\n",
       "      <td>2018500</td>\n",
       "      <td>NaN</td>\n",
       "      <td>303.00</td>\n",
       "      <td>304.23</td>\n",
       "      <td>302.86</td>\n",
       "      <td>303.20</td>\n",
       "      <td>38915074</td>\n",
       "      <td>NaN</td>\n",
       "    </tr>\n",
       "    <tr>\n",
       "      <th>2019-10-30 00:00:00-04:00</th>\n",
       "      <td>112.4500</td>\n",
       "      <td>112.750</td>\n",
       "      <td>112.430</td>\n",
       "      <td>112.74</td>\n",
       "      <td>2139127</td>\n",
       "      <td>0.003025</td>\n",
       "      <td>303.43</td>\n",
       "      <td>304.55</td>\n",
       "      <td>301.99</td>\n",
       "      <td>304.14</td>\n",
       "      <td>40022810</td>\n",
       "      <td>0.003100</td>\n",
       "    </tr>\n",
       "    <tr>\n",
       "      <th>2019-10-31 00:00:00-04:00</th>\n",
       "      <td>113.2062</td>\n",
       "      <td>113.300</td>\n",
       "      <td>113.130</td>\n",
       "      <td>113.16</td>\n",
       "      <td>2700223</td>\n",
       "      <td>0.003725</td>\n",
       "      <td>302.22</td>\n",
       "      <td>303.39</td>\n",
       "      <td>301.85</td>\n",
       "      <td>303.26</td>\n",
       "      <td>39406638</td>\n",
       "      <td>-0.002893</td>\n",
       "    </tr>\n",
       "    <tr>\n",
       "      <th>2019-11-01 00:00:00-04:00</th>\n",
       "      <td>112.9800</td>\n",
       "      <td>113.105</td>\n",
       "      <td>112.805</td>\n",
       "      <td>112.94</td>\n",
       "      <td>3631207</td>\n",
       "      <td>-0.001944</td>\n",
       "      <td>304.92</td>\n",
       "      <td>306.19</td>\n",
       "      <td>304.74</td>\n",
       "      <td>306.18</td>\n",
       "      <td>56134595</td>\n",
       "      <td>0.009629</td>\n",
       "    </tr>\n",
       "    <tr>\n",
       "      <th>2019-11-04 00:00:00-05:00</th>\n",
       "      <td>112.7100</td>\n",
       "      <td>112.720</td>\n",
       "      <td>112.590</td>\n",
       "      <td>112.63</td>\n",
       "      <td>2405029</td>\n",
       "      <td>-0.002745</td>\n",
       "      <td>307.85</td>\n",
       "      <td>308.00</td>\n",
       "      <td>306.96</td>\n",
       "      <td>307.34</td>\n",
       "      <td>51277730</td>\n",
       "      <td>0.003789</td>\n",
       "    </tr>\n",
       "  </tbody>\n",
       "</table>\n",
       "</div>"
      ],
      "text/plain": [
       "                                AGG                                     \\\n",
       "                               open     high      low   close   volume   \n",
       "time                                                                     \n",
       "2019-10-29 00:00:00-04:00  112.4800  112.500  112.345  112.40  2018500   \n",
       "2019-10-30 00:00:00-04:00  112.4500  112.750  112.430  112.74  2139127   \n",
       "2019-10-31 00:00:00-04:00  113.2062  113.300  113.130  113.16  2700223   \n",
       "2019-11-01 00:00:00-04:00  112.9800  113.105  112.805  112.94  3631207   \n",
       "2019-11-04 00:00:00-05:00  112.7100  112.720  112.590  112.63  2405029   \n",
       "\n",
       "                                           SPY                          \\\n",
       "                          daily_return    open    high     low   close   \n",
       "time                                                                     \n",
       "2019-10-29 00:00:00-04:00          NaN  303.00  304.23  302.86  303.20   \n",
       "2019-10-30 00:00:00-04:00     0.003025  303.43  304.55  301.99  304.14   \n",
       "2019-10-31 00:00:00-04:00     0.003725  302.22  303.39  301.85  303.26   \n",
       "2019-11-01 00:00:00-04:00    -0.001944  304.92  306.19  304.74  306.18   \n",
       "2019-11-04 00:00:00-05:00    -0.002745  307.85  308.00  306.96  307.34   \n",
       "\n",
       "                                                  \n",
       "                             volume daily_return  \n",
       "time                                              \n",
       "2019-10-29 00:00:00-04:00  38915074          NaN  \n",
       "2019-10-30 00:00:00-04:00  40022810     0.003100  \n",
       "2019-10-31 00:00:00-04:00  39406638    -0.002893  \n",
       "2019-11-01 00:00:00-04:00  56134595     0.009629  \n",
       "2019-11-04 00:00:00-05:00  51277730     0.003789  "
      ]
     },
     "execution_count": 30,
     "metadata": {},
     "output_type": "execute_result"
    }
   ],
   "source": [
    "# Configure the Monte Carlo simulation to forecast 30 years cumulative returns\n",
    "# The weights should be split 40% to AGG and 60% to SPY.\n",
    "# Run 500 samples.\n",
    "MC_30_year = MCSimulation(\n",
    "  portfolio_data = stocks_portfolio_df,\n",
    "  weights = [.40,.60],\n",
    "  num_simulation = 500,\n",
    "  num_trading_days = 252*30\n",
    ")\n",
    "\n",
    "# Review the simulation input data\n",
    "MC_30_year.portfolio_data.head()\n"
   ]
  },
  {
   "cell_type": "code",
   "execution_count": 31,
   "metadata": {},
   "outputs": [
    {
     "name": "stdout",
     "output_type": "stream",
     "text": [
      "Running Monte Carlo simulation number 0.\n",
      "Running Monte Carlo simulation number 10.\n",
      "Running Monte Carlo simulation number 20.\n",
      "Running Monte Carlo simulation number 30.\n",
      "Running Monte Carlo simulation number 40.\n",
      "Running Monte Carlo simulation number 50.\n",
      "Running Monte Carlo simulation number 60.\n",
      "Running Monte Carlo simulation number 70.\n",
      "Running Monte Carlo simulation number 80.\n",
      "Running Monte Carlo simulation number 90.\n",
      "Running Monte Carlo simulation number 100.\n",
      "Running Monte Carlo simulation number 110.\n",
      "Running Monte Carlo simulation number 120.\n",
      "Running Monte Carlo simulation number 130.\n",
      "Running Monte Carlo simulation number 140.\n",
      "Running Monte Carlo simulation number 150.\n",
      "Running Monte Carlo simulation number 160.\n",
      "Running Monte Carlo simulation number 170.\n",
      "Running Monte Carlo simulation number 180.\n",
      "Running Monte Carlo simulation number 190.\n",
      "Running Monte Carlo simulation number 200.\n",
      "Running Monte Carlo simulation number 210.\n",
      "Running Monte Carlo simulation number 220.\n",
      "Running Monte Carlo simulation number 230.\n",
      "Running Monte Carlo simulation number 240.\n",
      "Running Monte Carlo simulation number 250.\n",
      "Running Monte Carlo simulation number 260.\n",
      "Running Monte Carlo simulation number 270.\n",
      "Running Monte Carlo simulation number 280.\n",
      "Running Monte Carlo simulation number 290.\n",
      "Running Monte Carlo simulation number 300.\n",
      "Running Monte Carlo simulation number 310.\n",
      "Running Monte Carlo simulation number 320.\n",
      "Running Monte Carlo simulation number 330.\n",
      "Running Monte Carlo simulation number 340.\n",
      "Running Monte Carlo simulation number 350.\n",
      "Running Monte Carlo simulation number 360.\n",
      "Running Monte Carlo simulation number 370.\n",
      "Running Monte Carlo simulation number 380.\n",
      "Running Monte Carlo simulation number 390.\n",
      "Running Monte Carlo simulation number 400.\n",
      "Running Monte Carlo simulation number 410.\n",
      "Running Monte Carlo simulation number 420.\n",
      "Running Monte Carlo simulation number 430.\n",
      "Running Monte Carlo simulation number 440.\n",
      "Running Monte Carlo simulation number 450.\n",
      "Running Monte Carlo simulation number 460.\n",
      "Running Monte Carlo simulation number 470.\n",
      "Running Monte Carlo simulation number 480.\n",
      "Running Monte Carlo simulation number 490.\n"
     ]
    },
    {
     "data": {
      "text/html": [
       "<div>\n",
       "<style scoped>\n",
       "    .dataframe tbody tr th:only-of-type {\n",
       "        vertical-align: middle;\n",
       "    }\n",
       "\n",
       "    .dataframe tbody tr th {\n",
       "        vertical-align: top;\n",
       "    }\n",
       "\n",
       "    .dataframe thead th {\n",
       "        text-align: right;\n",
       "    }\n",
       "</style>\n",
       "<table border=\"1\" class=\"dataframe\">\n",
       "  <thead>\n",
       "    <tr style=\"text-align: right;\">\n",
       "      <th></th>\n",
       "      <th>0</th>\n",
       "      <th>1</th>\n",
       "      <th>2</th>\n",
       "      <th>3</th>\n",
       "      <th>4</th>\n",
       "      <th>5</th>\n",
       "      <th>6</th>\n",
       "      <th>7</th>\n",
       "      <th>8</th>\n",
       "      <th>9</th>\n",
       "      <th>...</th>\n",
       "      <th>490</th>\n",
       "      <th>491</th>\n",
       "      <th>492</th>\n",
       "      <th>493</th>\n",
       "      <th>494</th>\n",
       "      <th>495</th>\n",
       "      <th>496</th>\n",
       "      <th>497</th>\n",
       "      <th>498</th>\n",
       "      <th>499</th>\n",
       "    </tr>\n",
       "  </thead>\n",
       "  <tbody>\n",
       "    <tr>\n",
       "      <th>0</th>\n",
       "      <td>1.000000</td>\n",
       "      <td>1.000000</td>\n",
       "      <td>1.000000</td>\n",
       "      <td>1.000000</td>\n",
       "      <td>1.000000</td>\n",
       "      <td>1.000000</td>\n",
       "      <td>1.000000</td>\n",
       "      <td>1.000000</td>\n",
       "      <td>1.000000</td>\n",
       "      <td>1.000000</td>\n",
       "      <td>...</td>\n",
       "      <td>1.000000</td>\n",
       "      <td>1.000000</td>\n",
       "      <td>1.000000</td>\n",
       "      <td>1.000000</td>\n",
       "      <td>1.000000</td>\n",
       "      <td>1.000000</td>\n",
       "      <td>1.000000</td>\n",
       "      <td>1.000000</td>\n",
       "      <td>1.000000</td>\n",
       "      <td>1.000000</td>\n",
       "    </tr>\n",
       "    <tr>\n",
       "      <th>1</th>\n",
       "      <td>1.012426</td>\n",
       "      <td>0.985908</td>\n",
       "      <td>0.995260</td>\n",
       "      <td>0.997605</td>\n",
       "      <td>1.010827</td>\n",
       "      <td>1.011220</td>\n",
       "      <td>1.003498</td>\n",
       "      <td>1.002359</td>\n",
       "      <td>0.995253</td>\n",
       "      <td>1.009020</td>\n",
       "      <td>...</td>\n",
       "      <td>1.003125</td>\n",
       "      <td>1.004846</td>\n",
       "      <td>0.989002</td>\n",
       "      <td>0.989212</td>\n",
       "      <td>0.994398</td>\n",
       "      <td>1.006832</td>\n",
       "      <td>0.993764</td>\n",
       "      <td>1.001941</td>\n",
       "      <td>0.992451</td>\n",
       "      <td>0.985746</td>\n",
       "    </tr>\n",
       "    <tr>\n",
       "      <th>2</th>\n",
       "      <td>1.022859</td>\n",
       "      <td>1.001000</td>\n",
       "      <td>1.007432</td>\n",
       "      <td>1.002793</td>\n",
       "      <td>1.006048</td>\n",
       "      <td>1.016450</td>\n",
       "      <td>1.017446</td>\n",
       "      <td>1.021314</td>\n",
       "      <td>0.997696</td>\n",
       "      <td>1.005075</td>\n",
       "      <td>...</td>\n",
       "      <td>0.994237</td>\n",
       "      <td>1.006897</td>\n",
       "      <td>0.985833</td>\n",
       "      <td>0.983109</td>\n",
       "      <td>0.976226</td>\n",
       "      <td>1.017636</td>\n",
       "      <td>0.992655</td>\n",
       "      <td>0.998561</td>\n",
       "      <td>1.000121</td>\n",
       "      <td>0.983975</td>\n",
       "    </tr>\n",
       "    <tr>\n",
       "      <th>3</th>\n",
       "      <td>1.036492</td>\n",
       "      <td>1.015090</td>\n",
       "      <td>1.009701</td>\n",
       "      <td>1.014436</td>\n",
       "      <td>1.009086</td>\n",
       "      <td>1.014160</td>\n",
       "      <td>1.016974</td>\n",
       "      <td>1.025541</td>\n",
       "      <td>1.006359</td>\n",
       "      <td>1.003878</td>\n",
       "      <td>...</td>\n",
       "      <td>0.990569</td>\n",
       "      <td>0.992845</td>\n",
       "      <td>0.995025</td>\n",
       "      <td>0.979803</td>\n",
       "      <td>0.967552</td>\n",
       "      <td>1.018606</td>\n",
       "      <td>0.991974</td>\n",
       "      <td>0.991417</td>\n",
       "      <td>0.993479</td>\n",
       "      <td>1.007349</td>\n",
       "    </tr>\n",
       "    <tr>\n",
       "      <th>4</th>\n",
       "      <td>1.021492</td>\n",
       "      <td>1.007237</td>\n",
       "      <td>1.012191</td>\n",
       "      <td>1.017065</td>\n",
       "      <td>1.016259</td>\n",
       "      <td>1.020788</td>\n",
       "      <td>1.011401</td>\n",
       "      <td>1.033122</td>\n",
       "      <td>1.009466</td>\n",
       "      <td>1.001301</td>\n",
       "      <td>...</td>\n",
       "      <td>0.979573</td>\n",
       "      <td>0.968705</td>\n",
       "      <td>0.987029</td>\n",
       "      <td>0.979610</td>\n",
       "      <td>0.973412</td>\n",
       "      <td>1.025059</td>\n",
       "      <td>1.006117</td>\n",
       "      <td>1.001592</td>\n",
       "      <td>0.975672</td>\n",
       "      <td>0.982291</td>\n",
       "    </tr>\n",
       "    <tr>\n",
       "      <th>...</th>\n",
       "      <td>...</td>\n",
       "      <td>...</td>\n",
       "      <td>...</td>\n",
       "      <td>...</td>\n",
       "      <td>...</td>\n",
       "      <td>...</td>\n",
       "      <td>...</td>\n",
       "      <td>...</td>\n",
       "      <td>...</td>\n",
       "      <td>...</td>\n",
       "      <td>...</td>\n",
       "      <td>...</td>\n",
       "      <td>...</td>\n",
       "      <td>...</td>\n",
       "      <td>...</td>\n",
       "      <td>...</td>\n",
       "      <td>...</td>\n",
       "      <td>...</td>\n",
       "      <td>...</td>\n",
       "      <td>...</td>\n",
       "      <td>...</td>\n",
       "    </tr>\n",
       "    <tr>\n",
       "      <th>7556</th>\n",
       "      <td>57.436437</td>\n",
       "      <td>28.978926</td>\n",
       "      <td>27.016827</td>\n",
       "      <td>42.067870</td>\n",
       "      <td>62.955986</td>\n",
       "      <td>136.307677</td>\n",
       "      <td>34.841297</td>\n",
       "      <td>10.937841</td>\n",
       "      <td>143.003994</td>\n",
       "      <td>44.099746</td>\n",
       "      <td>...</td>\n",
       "      <td>51.611043</td>\n",
       "      <td>59.446014</td>\n",
       "      <td>22.986692</td>\n",
       "      <td>76.616924</td>\n",
       "      <td>40.798090</td>\n",
       "      <td>81.374792</td>\n",
       "      <td>183.627969</td>\n",
       "      <td>53.016107</td>\n",
       "      <td>42.285142</td>\n",
       "      <td>32.983744</td>\n",
       "    </tr>\n",
       "    <tr>\n",
       "      <th>7557</th>\n",
       "      <td>58.811289</td>\n",
       "      <td>29.395464</td>\n",
       "      <td>26.938300</td>\n",
       "      <td>42.625221</td>\n",
       "      <td>63.361154</td>\n",
       "      <td>134.797808</td>\n",
       "      <td>34.202470</td>\n",
       "      <td>10.775125</td>\n",
       "      <td>142.628222</td>\n",
       "      <td>43.373042</td>\n",
       "      <td>...</td>\n",
       "      <td>51.109515</td>\n",
       "      <td>60.066331</td>\n",
       "      <td>23.210512</td>\n",
       "      <td>78.152180</td>\n",
       "      <td>40.665695</td>\n",
       "      <td>81.078672</td>\n",
       "      <td>181.565114</td>\n",
       "      <td>53.020050</td>\n",
       "      <td>42.753803</td>\n",
       "      <td>33.203156</td>\n",
       "    </tr>\n",
       "    <tr>\n",
       "      <th>7558</th>\n",
       "      <td>58.613773</td>\n",
       "      <td>29.070980</td>\n",
       "      <td>26.570097</td>\n",
       "      <td>41.826577</td>\n",
       "      <td>63.153763</td>\n",
       "      <td>134.493157</td>\n",
       "      <td>34.954104</td>\n",
       "      <td>10.745770</td>\n",
       "      <td>142.043580</td>\n",
       "      <td>43.165216</td>\n",
       "      <td>...</td>\n",
       "      <td>50.940003</td>\n",
       "      <td>60.532845</td>\n",
       "      <td>22.849138</td>\n",
       "      <td>78.014036</td>\n",
       "      <td>40.299869</td>\n",
       "      <td>81.598641</td>\n",
       "      <td>181.178043</td>\n",
       "      <td>53.233719</td>\n",
       "      <td>42.470991</td>\n",
       "      <td>33.550936</td>\n",
       "    </tr>\n",
       "    <tr>\n",
       "      <th>7559</th>\n",
       "      <td>58.422921</td>\n",
       "      <td>29.103882</td>\n",
       "      <td>26.365584</td>\n",
       "      <td>41.863634</td>\n",
       "      <td>62.364112</td>\n",
       "      <td>133.658844</td>\n",
       "      <td>34.771236</td>\n",
       "      <td>10.813843</td>\n",
       "      <td>142.918490</td>\n",
       "      <td>43.681721</td>\n",
       "      <td>...</td>\n",
       "      <td>51.598372</td>\n",
       "      <td>61.052450</td>\n",
       "      <td>22.778573</td>\n",
       "      <td>78.211975</td>\n",
       "      <td>40.393629</td>\n",
       "      <td>81.571854</td>\n",
       "      <td>181.439323</td>\n",
       "      <td>52.901468</td>\n",
       "      <td>42.557438</td>\n",
       "      <td>33.654988</td>\n",
       "    </tr>\n",
       "    <tr>\n",
       "      <th>7560</th>\n",
       "      <td>59.268281</td>\n",
       "      <td>29.328683</td>\n",
       "      <td>26.169366</td>\n",
       "      <td>41.755105</td>\n",
       "      <td>61.885849</td>\n",
       "      <td>132.972078</td>\n",
       "      <td>35.101150</td>\n",
       "      <td>10.652325</td>\n",
       "      <td>143.674458</td>\n",
       "      <td>43.866706</td>\n",
       "      <td>...</td>\n",
       "      <td>52.403711</td>\n",
       "      <td>60.759118</td>\n",
       "      <td>22.857088</td>\n",
       "      <td>78.740076</td>\n",
       "      <td>39.655085</td>\n",
       "      <td>82.466603</td>\n",
       "      <td>184.261689</td>\n",
       "      <td>52.089452</td>\n",
       "      <td>42.776766</td>\n",
       "      <td>33.966451</td>\n",
       "    </tr>\n",
       "  </tbody>\n",
       "</table>\n",
       "<p>7561 rows × 500 columns</p>\n",
       "</div>"
      ],
      "text/plain": [
       "            0          1          2          3          4           5    \\\n",
       "0      1.000000   1.000000   1.000000   1.000000   1.000000    1.000000   \n",
       "1      1.012426   0.985908   0.995260   0.997605   1.010827    1.011220   \n",
       "2      1.022859   1.001000   1.007432   1.002793   1.006048    1.016450   \n",
       "3      1.036492   1.015090   1.009701   1.014436   1.009086    1.014160   \n",
       "4      1.021492   1.007237   1.012191   1.017065   1.016259    1.020788   \n",
       "...         ...        ...        ...        ...        ...         ...   \n",
       "7556  57.436437  28.978926  27.016827  42.067870  62.955986  136.307677   \n",
       "7557  58.811289  29.395464  26.938300  42.625221  63.361154  134.797808   \n",
       "7558  58.613773  29.070980  26.570097  41.826577  63.153763  134.493157   \n",
       "7559  58.422921  29.103882  26.365584  41.863634  62.364112  133.658844   \n",
       "7560  59.268281  29.328683  26.169366  41.755105  61.885849  132.972078   \n",
       "\n",
       "            6          7           8          9    ...        490        491  \\\n",
       "0      1.000000   1.000000    1.000000   1.000000  ...   1.000000   1.000000   \n",
       "1      1.003498   1.002359    0.995253   1.009020  ...   1.003125   1.004846   \n",
       "2      1.017446   1.021314    0.997696   1.005075  ...   0.994237   1.006897   \n",
       "3      1.016974   1.025541    1.006359   1.003878  ...   0.990569   0.992845   \n",
       "4      1.011401   1.033122    1.009466   1.001301  ...   0.979573   0.968705   \n",
       "...         ...        ...         ...        ...  ...        ...        ...   \n",
       "7556  34.841297  10.937841  143.003994  44.099746  ...  51.611043  59.446014   \n",
       "7557  34.202470  10.775125  142.628222  43.373042  ...  51.109515  60.066331   \n",
       "7558  34.954104  10.745770  142.043580  43.165216  ...  50.940003  60.532845   \n",
       "7559  34.771236  10.813843  142.918490  43.681721  ...  51.598372  61.052450   \n",
       "7560  35.101150  10.652325  143.674458  43.866706  ...  52.403711  60.759118   \n",
       "\n",
       "            492        493        494        495         496        497  \\\n",
       "0      1.000000   1.000000   1.000000   1.000000    1.000000   1.000000   \n",
       "1      0.989002   0.989212   0.994398   1.006832    0.993764   1.001941   \n",
       "2      0.985833   0.983109   0.976226   1.017636    0.992655   0.998561   \n",
       "3      0.995025   0.979803   0.967552   1.018606    0.991974   0.991417   \n",
       "4      0.987029   0.979610   0.973412   1.025059    1.006117   1.001592   \n",
       "...         ...        ...        ...        ...         ...        ...   \n",
       "7556  22.986692  76.616924  40.798090  81.374792  183.627969  53.016107   \n",
       "7557  23.210512  78.152180  40.665695  81.078672  181.565114  53.020050   \n",
       "7558  22.849138  78.014036  40.299869  81.598641  181.178043  53.233719   \n",
       "7559  22.778573  78.211975  40.393629  81.571854  181.439323  52.901468   \n",
       "7560  22.857088  78.740076  39.655085  82.466603  184.261689  52.089452   \n",
       "\n",
       "            498        499  \n",
       "0      1.000000   1.000000  \n",
       "1      0.992451   0.985746  \n",
       "2      1.000121   0.983975  \n",
       "3      0.993479   1.007349  \n",
       "4      0.975672   0.982291  \n",
       "...         ...        ...  \n",
       "7556  42.285142  32.983744  \n",
       "7557  42.753803  33.203156  \n",
       "7558  42.470991  33.550936  \n",
       "7559  42.557438  33.654988  \n",
       "7560  42.776766  33.966451  \n",
       "\n",
       "[7561 rows x 500 columns]"
      ]
     },
     "execution_count": 31,
     "metadata": {},
     "output_type": "execute_result"
    }
   ],
   "source": [
    "# Run the Monte Carlo simulation to forecast 30 years cumulative returns\n",
    "MC_30_year.calc_cumulative_return()\n"
   ]
  },
  {
   "cell_type": "code",
   "execution_count": 32,
   "metadata": {},
   "outputs": [
    {
     "data": {
      "image/png": "[encoded data removed]",
      "text/plain": [
       "<Figure size 432x288 with 1 Axes>"
      ]
     },
     "metadata": {
      "needs_background": "light"
     },
     "output_type": "display_data"
    }
   ],
   "source": [
    "# Visualize the 30-year Monte Carlo simulation by creating an\n",
    "# overlay line plot\n",
    "MC_sim_Line_plot = MC_30_year.plot_simulation()\n"
   ]
  },
  {
   "cell_type": "markdown",
   "metadata": {},
   "source": [
    "#### Step 3: Plot the probability distribution of the Monte Carlo simulation."
   ]
  },
  {
   "cell_type": "code",
   "execution_count": 33,
   "metadata": {},
   "outputs": [
    {
     "data": {
      "image/png": "[encoded data removed]",
      "text/plain": [
       "<Figure size 432x288 with 1 Axes>"
      ]
     },
     "metadata": {
      "needs_background": "light"
     },
     "output_type": "display_data"
    }
   ],
   "source": [
    "# Visualize the probability distribution of the 30-year Monte Carlo simulation \n",
    "# by plotting a histogram\n",
    "MC_sim_dist_plot = MC_30_year.plot_distribution()\n",
    "\n"
   ]
  },
  {
   "cell_type": "markdown",
   "metadata": {},
   "source": [
    "#### Step 4: Generate the summary statistics for the Monte Carlo simulation."
   ]
  },
  {
   "cell_type": "code",
   "execution_count": 38,
   "metadata": {},
   "outputs": [
    {
     "name": "stdout",
     "output_type": "stream",
     "text": [
      "count           500.000000\n",
      "mean             81.978814\n",
      "std              76.413694\n",
      "min               2.971622\n",
      "25%              34.260673\n",
      "50%              59.329826\n",
      "75%             103.040407\n",
      "max             550.736236\n",
      "95% CI Lower     11.422861\n",
      "95% CI Upper    287.211272\n",
      "Name: 7560, dtype: float64\n"
     ]
    }
   ],
   "source": [
    "# Generate summary statistics from the 30-year Monte Carlo simulation results\n",
    "# Save the results as a variable\n",
    "MC_30_year_summary_stats = MC_30_year.summarize_cumulative_return()\n",
    "\n",
    "\n",
    "# Review the 30-year Monte Carlo summary statistics\n",
    "print(MC_30_year_summary_stats)"
   ]
  },
  {
   "cell_type": "markdown",
   "metadata": {},
   "source": [
    "### Analyze the Retirement Portfolio Forecasts\n",
    "\n",
    "Using the current value of only the stock and bond portion of the member's portfolio and the summary statistics that you generated from the Monte Carlo simulation, answer the following question in your Jupyter notebook:\n",
    "\n",
    "-  What are the lower and upper bounds for the expected value of the portfolio with a 95% confidence interval?\n"
   ]
  },
  {
   "cell_type": "code",
   "execution_count": 42,
   "metadata": {},
   "outputs": [
    {
     "name": "stdout",
     "output_type": "stream",
     "text": [
      "The current the current balance of the stock and bond portfolio is $73438.20\n"
     ]
    }
   ],
   "source": [
    "# Print the current balance of the stock and bond portion of the members portfolio\n",
    "print(f\"The current the current balance of the stock and bond portfolio is ${total_stocks_bonds:0.2f}\")\n"
   ]
  },
  {
   "cell_type": "code",
   "execution_count": 43,
   "metadata": {},
   "outputs": [
    {
     "name": "stdout",
     "output_type": "stream",
     "text": [
      "There is a 95% chance that a current balance of $73438.20 in the portfolio over the next 30 years will end within in the range of $ 838874.39 and $ 21092278.81.\n"
     ]
    }
   ],
   "source": [
    "# Use the lower and upper `95%` confidence intervals to calculate the range of the possible outcomes for the current stock/bond portfolio\n",
    "ci_lower_thirty_cumulative_return = MC_30_year_summary_stats[8] * total_stocks_bonds\n",
    "ci_upper_thirty_cumulative_return = MC_30_year_summary_stats[9] * total_stocks_bonds\n",
    "\n",
    "# Print the result of your calculations\n",
    "print(f\"There is a 95% chance that a current balance of $73438.20 in the portfolio\"\n",
    "  f\" over the next 30 years will end within in the range of\"\n",
    "  f\" ${ci_lower_thirty_cumulative_return: .2f} and ${ci_upper_thirty_cumulative_return: .2f}.\")\n",
    "\n"
   ]
  },
  {
   "cell_type": "markdown",
   "metadata": {},
   "source": [
    "### Forecast Cumulative Returns in 10 Years\n",
    "\n",
    "The CTO of the credit union is impressed with your work on these planning tools but wonders if 30 years is a long time to wait until retirement. So, your next task is to adjust the retirement portfolio and run a new Monte Carlo simulation to find out if the changes will allow members to retire earlier.\n",
    "\n",
    "For this new Monte Carlo simulation, do the following: \n",
    "\n",
    "- Forecast the cumulative returns for 10 years from now. Because of the shortened investment horizon (30 years to 10 years), the portfolio needs to invest more heavily in the riskier asset&mdash;that is, stock&mdash;to help accumulate wealth for retirement. \n",
    "\n",
    "- Adjust the weights of the retirement portfolio so that the composition for the Monte Carlo simulation consists of 20% bonds and 80% stocks. \n",
    "\n",
    "- Run the simulation over 500 samples, and use the same data that the API call to Alpaca generated.\n",
    "\n",
    "- Based on the new Monte Carlo simulation, answer the following questions in your Jupyter notebook:\n",
    "\n",
    "    - Using the current value of only the stock and bond portion of the member's portfolio and the summary statistics that you generated from the new Monte Carlo simulation, what are the lower and upper bounds for the expected value of the portfolio (with the new weights) with a 95% confidence interval?\n",
    "\n",
    "    - Will weighting the portfolio more heavily toward stocks allow the credit union members to retire after only 10 years?\n"
   ]
  },
  {
   "cell_type": "code",
   "execution_count": 44,
   "metadata": {},
   "outputs": [
    {
     "data": {
      "text/html": [
       "<div>\n",
       "<style scoped>\n",
       "    .dataframe tbody tr th:only-of-type {\n",
       "        vertical-align: middle;\n",
       "    }\n",
       "\n",
       "    .dataframe tbody tr th {\n",
       "        vertical-align: top;\n",
       "    }\n",
       "\n",
       "    .dataframe thead tr th {\n",
       "        text-align: left;\n",
       "    }\n",
       "\n",
       "    .dataframe thead tr:last-of-type th {\n",
       "        text-align: right;\n",
       "    }\n",
       "</style>\n",
       "<table border=\"1\" class=\"dataframe\">\n",
       "  <thead>\n",
       "    <tr>\n",
       "      <th></th>\n",
       "      <th colspan=\"6\" halign=\"left\">AGG</th>\n",
       "      <th colspan=\"6\" halign=\"left\">SPY</th>\n",
       "    </tr>\n",
       "    <tr>\n",
       "      <th></th>\n",
       "      <th>open</th>\n",
       "      <th>high</th>\n",
       "      <th>low</th>\n",
       "      <th>close</th>\n",
       "      <th>volume</th>\n",
       "      <th>daily_return</th>\n",
       "      <th>open</th>\n",
       "      <th>high</th>\n",
       "      <th>low</th>\n",
       "      <th>close</th>\n",
       "      <th>volume</th>\n",
       "      <th>daily_return</th>\n",
       "    </tr>\n",
       "    <tr>\n",
       "      <th>time</th>\n",
       "      <th></th>\n",
       "      <th></th>\n",
       "      <th></th>\n",
       "      <th></th>\n",
       "      <th></th>\n",
       "      <th></th>\n",
       "      <th></th>\n",
       "      <th></th>\n",
       "      <th></th>\n",
       "      <th></th>\n",
       "      <th></th>\n",
       "      <th></th>\n",
       "    </tr>\n",
       "  </thead>\n",
       "  <tbody>\n",
       "    <tr>\n",
       "      <th>2019-10-29 00:00:00-04:00</th>\n",
       "      <td>112.4800</td>\n",
       "      <td>112.500</td>\n",
       "      <td>112.345</td>\n",
       "      <td>112.40</td>\n",
       "      <td>2018500</td>\n",
       "      <td>NaN</td>\n",
       "      <td>303.00</td>\n",
       "      <td>304.23</td>\n",
       "      <td>302.86</td>\n",
       "      <td>303.20</td>\n",
       "      <td>38915074</td>\n",
       "      <td>NaN</td>\n",
       "    </tr>\n",
       "    <tr>\n",
       "      <th>2019-10-30 00:00:00-04:00</th>\n",
       "      <td>112.4500</td>\n",
       "      <td>112.750</td>\n",
       "      <td>112.430</td>\n",
       "      <td>112.74</td>\n",
       "      <td>2139127</td>\n",
       "      <td>0.003025</td>\n",
       "      <td>303.43</td>\n",
       "      <td>304.55</td>\n",
       "      <td>301.99</td>\n",
       "      <td>304.14</td>\n",
       "      <td>40022810</td>\n",
       "      <td>0.003100</td>\n",
       "    </tr>\n",
       "    <tr>\n",
       "      <th>2019-10-31 00:00:00-04:00</th>\n",
       "      <td>113.2062</td>\n",
       "      <td>113.300</td>\n",
       "      <td>113.130</td>\n",
       "      <td>113.16</td>\n",
       "      <td>2700223</td>\n",
       "      <td>0.003725</td>\n",
       "      <td>302.22</td>\n",
       "      <td>303.39</td>\n",
       "      <td>301.85</td>\n",
       "      <td>303.26</td>\n",
       "      <td>39406638</td>\n",
       "      <td>-0.002893</td>\n",
       "    </tr>\n",
       "    <tr>\n",
       "      <th>2019-11-01 00:00:00-04:00</th>\n",
       "      <td>112.9800</td>\n",
       "      <td>113.105</td>\n",
       "      <td>112.805</td>\n",
       "      <td>112.94</td>\n",
       "      <td>3631207</td>\n",
       "      <td>-0.001944</td>\n",
       "      <td>304.92</td>\n",
       "      <td>306.19</td>\n",
       "      <td>304.74</td>\n",
       "      <td>306.18</td>\n",
       "      <td>56134595</td>\n",
       "      <td>0.009629</td>\n",
       "    </tr>\n",
       "    <tr>\n",
       "      <th>2019-11-04 00:00:00-05:00</th>\n",
       "      <td>112.7100</td>\n",
       "      <td>112.720</td>\n",
       "      <td>112.590</td>\n",
       "      <td>112.63</td>\n",
       "      <td>2405029</td>\n",
       "      <td>-0.002745</td>\n",
       "      <td>307.85</td>\n",
       "      <td>308.00</td>\n",
       "      <td>306.96</td>\n",
       "      <td>307.34</td>\n",
       "      <td>51277730</td>\n",
       "      <td>0.003789</td>\n",
       "    </tr>\n",
       "  </tbody>\n",
       "</table>\n",
       "</div>"
      ],
      "text/plain": [
       "                                AGG                                     \\\n",
       "                               open     high      low   close   volume   \n",
       "time                                                                     \n",
       "2019-10-29 00:00:00-04:00  112.4800  112.500  112.345  112.40  2018500   \n",
       "2019-10-30 00:00:00-04:00  112.4500  112.750  112.430  112.74  2139127   \n",
       "2019-10-31 00:00:00-04:00  113.2062  113.300  113.130  113.16  2700223   \n",
       "2019-11-01 00:00:00-04:00  112.9800  113.105  112.805  112.94  3631207   \n",
       "2019-11-04 00:00:00-05:00  112.7100  112.720  112.590  112.63  2405029   \n",
       "\n",
       "                                           SPY                          \\\n",
       "                          daily_return    open    high     low   close   \n",
       "time                                                                     \n",
       "2019-10-29 00:00:00-04:00          NaN  303.00  304.23  302.86  303.20   \n",
       "2019-10-30 00:00:00-04:00     0.003025  303.43  304.55  301.99  304.14   \n",
       "2019-10-31 00:00:00-04:00     0.003725  302.22  303.39  301.85  303.26   \n",
       "2019-11-01 00:00:00-04:00    -0.001944  304.92  306.19  304.74  306.18   \n",
       "2019-11-04 00:00:00-05:00    -0.002745  307.85  308.00  306.96  307.34   \n",
       "\n",
       "                                                  \n",
       "                             volume daily_return  \n",
       "time                                              \n",
       "2019-10-29 00:00:00-04:00  38915074          NaN  \n",
       "2019-10-30 00:00:00-04:00  40022810     0.003100  \n",
       "2019-10-31 00:00:00-04:00  39406638    -0.002893  \n",
       "2019-11-01 00:00:00-04:00  56134595     0.009629  \n",
       "2019-11-04 00:00:00-05:00  51277730     0.003789  "
      ]
     },
     "execution_count": 44,
     "metadata": {},
     "output_type": "execute_result"
    }
   ],
   "source": [
    "# Configure a Monte Carlo simulation to forecast 10 years cumulative returns\n",
    "# The weights should be split 20% to AGG and 80% to SPY.\n",
    "# Run 500 samples.\n",
    "MC_10_year = MCSimulation(\n",
    "  portfolio_data = stocks_portfolio_df,\n",
    "  weights = [.20,.80],\n",
    "  num_simulation = 500,\n",
    "  num_trading_days = 252*10\n",
    ")\n",
    "\n",
    "# Review the simulation input data\n",
    "MC_10_year.portfolio_data.head()\n",
    "\n"
   ]
  },
  {
   "cell_type": "code",
   "execution_count": 45,
   "metadata": {},
   "outputs": [
    {
     "name": "stdout",
     "output_type": "stream",
     "text": [
      "Running Monte Carlo simulation number 0.\n",
      "Running Monte Carlo simulation number 10.\n",
      "Running Monte Carlo simulation number 20.\n",
      "Running Monte Carlo simulation number 30.\n",
      "Running Monte Carlo simulation number 40.\n",
      "Running Monte Carlo simulation number 50.\n",
      "Running Monte Carlo simulation number 60.\n",
      "Running Monte Carlo simulation number 70.\n",
      "Running Monte Carlo simulation number 80.\n",
      "Running Monte Carlo simulation number 90.\n",
      "Running Monte Carlo simulation number 100.\n",
      "Running Monte Carlo simulation number 110.\n",
      "Running Monte Carlo simulation number 120.\n",
      "Running Monte Carlo simulation number 130.\n",
      "Running Monte Carlo simulation number 140.\n",
      "Running Monte Carlo simulation number 150.\n",
      "Running Monte Carlo simulation number 160.\n",
      "Running Monte Carlo simulation number 170.\n",
      "Running Monte Carlo simulation number 180.\n",
      "Running Monte Carlo simulation number 190.\n",
      "Running Monte Carlo simulation number 200.\n",
      "Running Monte Carlo simulation number 210.\n",
      "Running Monte Carlo simulation number 220.\n",
      "Running Monte Carlo simulation number 230.\n",
      "Running Monte Carlo simulation number 240.\n",
      "Running Monte Carlo simulation number 250.\n",
      "Running Monte Carlo simulation number 260.\n",
      "Running Monte Carlo simulation number 270.\n",
      "Running Monte Carlo simulation number 280.\n",
      "Running Monte Carlo simulation number 290.\n",
      "Running Monte Carlo simulation number 300.\n",
      "Running Monte Carlo simulation number 310.\n",
      "Running Monte Carlo simulation number 320.\n",
      "Running Monte Carlo simulation number 330.\n",
      "Running Monte Carlo simulation number 340.\n",
      "Running Monte Carlo simulation number 350.\n",
      "Running Monte Carlo simulation number 360.\n",
      "Running Monte Carlo simulation number 370.\n",
      "Running Monte Carlo simulation number 380.\n",
      "Running Monte Carlo simulation number 390.\n",
      "Running Monte Carlo simulation number 400.\n",
      "Running Monte Carlo simulation number 410.\n",
      "Running Monte Carlo simulation number 420.\n",
      "Running Monte Carlo simulation number 430.\n",
      "Running Monte Carlo simulation number 440.\n",
      "Running Monte Carlo simulation number 450.\n",
      "Running Monte Carlo simulation number 460.\n",
      "Running Monte Carlo simulation number 470.\n",
      "Running Monte Carlo simulation number 480.\n",
      "Running Monte Carlo simulation number 490.\n"
     ]
    },
    {
     "data": {
      "text/html": [
       "<div>\n",
       "<style scoped>\n",
       "    .dataframe tbody tr th:only-of-type {\n",
       "        vertical-align: middle;\n",
       "    }\n",
       "\n",
       "    .dataframe tbody tr th {\n",
       "        vertical-align: top;\n",
       "    }\n",
       "\n",
       "    .dataframe thead th {\n",
       "        text-align: right;\n",
       "    }\n",
       "</style>\n",
       "<table border=\"1\" class=\"dataframe\">\n",
       "  <thead>\n",
       "    <tr style=\"text-align: right;\">\n",
       "      <th></th>\n",
       "      <th>0</th>\n",
       "      <th>1</th>\n",
       "      <th>2</th>\n",
       "      <th>3</th>\n",
       "      <th>4</th>\n",
       "      <th>5</th>\n",
       "      <th>6</th>\n",
       "      <th>7</th>\n",
       "      <th>8</th>\n",
       "      <th>9</th>\n",
       "      <th>...</th>\n",
       "      <th>490</th>\n",
       "      <th>491</th>\n",
       "      <th>492</th>\n",
       "      <th>493</th>\n",
       "      <th>494</th>\n",
       "      <th>495</th>\n",
       "      <th>496</th>\n",
       "      <th>497</th>\n",
       "      <th>498</th>\n",
       "      <th>499</th>\n",
       "    </tr>\n",
       "  </thead>\n",
       "  <tbody>\n",
       "    <tr>\n",
       "      <th>0</th>\n",
       "      <td>1.000000</td>\n",
       "      <td>1.000000</td>\n",
       "      <td>1.000000</td>\n",
       "      <td>1.000000</td>\n",
       "      <td>1.000000</td>\n",
       "      <td>1.000000</td>\n",
       "      <td>1.000000</td>\n",
       "      <td>1.000000</td>\n",
       "      <td>1.000000</td>\n",
       "      <td>1.000000</td>\n",
       "      <td>...</td>\n",
       "      <td>1.000000</td>\n",
       "      <td>1.000000</td>\n",
       "      <td>1.000000</td>\n",
       "      <td>1.000000</td>\n",
       "      <td>1.000000</td>\n",
       "      <td>1.000000</td>\n",
       "      <td>1.000000</td>\n",
       "      <td>1.000000</td>\n",
       "      <td>1.000000</td>\n",
       "      <td>1.000000</td>\n",
       "    </tr>\n",
       "    <tr>\n",
       "      <th>1</th>\n",
       "      <td>0.994436</td>\n",
       "      <td>0.984732</td>\n",
       "      <td>0.998155</td>\n",
       "      <td>1.001144</td>\n",
       "      <td>1.003361</td>\n",
       "      <td>1.014187</td>\n",
       "      <td>1.006450</td>\n",
       "      <td>0.989729</td>\n",
       "      <td>1.010932</td>\n",
       "      <td>0.983688</td>\n",
       "      <td>...</td>\n",
       "      <td>1.025502</td>\n",
       "      <td>0.996272</td>\n",
       "      <td>1.003326</td>\n",
       "      <td>1.013883</td>\n",
       "      <td>1.013077</td>\n",
       "      <td>1.025427</td>\n",
       "      <td>1.007476</td>\n",
       "      <td>0.998957</td>\n",
       "      <td>0.983789</td>\n",
       "      <td>0.999579</td>\n",
       "    </tr>\n",
       "    <tr>\n",
       "      <th>2</th>\n",
       "      <td>1.008974</td>\n",
       "      <td>0.975074</td>\n",
       "      <td>1.003524</td>\n",
       "      <td>1.001426</td>\n",
       "      <td>1.020733</td>\n",
       "      <td>1.026922</td>\n",
       "      <td>0.993676</td>\n",
       "      <td>0.969199</td>\n",
       "      <td>1.003858</td>\n",
       "      <td>0.990091</td>\n",
       "      <td>...</td>\n",
       "      <td>1.026225</td>\n",
       "      <td>0.984337</td>\n",
       "      <td>0.999385</td>\n",
       "      <td>1.005352</td>\n",
       "      <td>1.014587</td>\n",
       "      <td>1.024690</td>\n",
       "      <td>0.983579</td>\n",
       "      <td>0.997849</td>\n",
       "      <td>0.991000</td>\n",
       "      <td>1.026396</td>\n",
       "    </tr>\n",
       "    <tr>\n",
       "      <th>3</th>\n",
       "      <td>0.996179</td>\n",
       "      <td>0.976807</td>\n",
       "      <td>1.007544</td>\n",
       "      <td>1.007576</td>\n",
       "      <td>1.028389</td>\n",
       "      <td>1.029933</td>\n",
       "      <td>0.983366</td>\n",
       "      <td>0.969912</td>\n",
       "      <td>1.007099</td>\n",
       "      <td>0.990394</td>\n",
       "      <td>...</td>\n",
       "      <td>1.011742</td>\n",
       "      <td>0.975681</td>\n",
       "      <td>1.016988</td>\n",
       "      <td>0.990548</td>\n",
       "      <td>1.029545</td>\n",
       "      <td>1.025337</td>\n",
       "      <td>0.990478</td>\n",
       "      <td>0.995565</td>\n",
       "      <td>0.997780</td>\n",
       "      <td>1.008619</td>\n",
       "    </tr>\n",
       "    <tr>\n",
       "      <th>4</th>\n",
       "      <td>1.013252</td>\n",
       "      <td>0.997563</td>\n",
       "      <td>1.019241</td>\n",
       "      <td>1.001506</td>\n",
       "      <td>1.025347</td>\n",
       "      <td>1.034113</td>\n",
       "      <td>1.003221</td>\n",
       "      <td>0.963719</td>\n",
       "      <td>1.010958</td>\n",
       "      <td>0.996803</td>\n",
       "      <td>...</td>\n",
       "      <td>1.016435</td>\n",
       "      <td>0.986386</td>\n",
       "      <td>1.005031</td>\n",
       "      <td>1.000308</td>\n",
       "      <td>1.022076</td>\n",
       "      <td>1.027683</td>\n",
       "      <td>0.986156</td>\n",
       "      <td>0.980462</td>\n",
       "      <td>1.012585</td>\n",
       "      <td>1.037836</td>\n",
       "    </tr>\n",
       "    <tr>\n",
       "      <th>...</th>\n",
       "      <td>...</td>\n",
       "      <td>...</td>\n",
       "      <td>...</td>\n",
       "      <td>...</td>\n",
       "      <td>...</td>\n",
       "      <td>...</td>\n",
       "      <td>...</td>\n",
       "      <td>...</td>\n",
       "      <td>...</td>\n",
       "      <td>...</td>\n",
       "      <td>...</td>\n",
       "      <td>...</td>\n",
       "      <td>...</td>\n",
       "      <td>...</td>\n",
       "      <td>...</td>\n",
       "      <td>...</td>\n",
       "      <td>...</td>\n",
       "      <td>...</td>\n",
       "      <td>...</td>\n",
       "      <td>...</td>\n",
       "      <td>...</td>\n",
       "    </tr>\n",
       "    <tr>\n",
       "      <th>2516</th>\n",
       "      <td>10.801804</td>\n",
       "      <td>8.073350</td>\n",
       "      <td>6.244688</td>\n",
       "      <td>9.392973</td>\n",
       "      <td>11.460780</td>\n",
       "      <td>6.552679</td>\n",
       "      <td>1.882618</td>\n",
       "      <td>2.825771</td>\n",
       "      <td>4.071299</td>\n",
       "      <td>5.082239</td>\n",
       "      <td>...</td>\n",
       "      <td>2.874998</td>\n",
       "      <td>6.490270</td>\n",
       "      <td>7.608406</td>\n",
       "      <td>11.496398</td>\n",
       "      <td>3.060163</td>\n",
       "      <td>5.737335</td>\n",
       "      <td>12.229037</td>\n",
       "      <td>12.079727</td>\n",
       "      <td>1.273357</td>\n",
       "      <td>5.606646</td>\n",
       "    </tr>\n",
       "    <tr>\n",
       "      <th>2517</th>\n",
       "      <td>10.751850</td>\n",
       "      <td>8.133873</td>\n",
       "      <td>6.230932</td>\n",
       "      <td>9.492044</td>\n",
       "      <td>11.214149</td>\n",
       "      <td>6.548649</td>\n",
       "      <td>1.860358</td>\n",
       "      <td>2.837450</td>\n",
       "      <td>4.115655</td>\n",
       "      <td>5.049888</td>\n",
       "      <td>...</td>\n",
       "      <td>2.851748</td>\n",
       "      <td>6.418582</td>\n",
       "      <td>7.689716</td>\n",
       "      <td>11.513145</td>\n",
       "      <td>3.057274</td>\n",
       "      <td>5.833921</td>\n",
       "      <td>12.096301</td>\n",
       "      <td>12.240641</td>\n",
       "      <td>1.281197</td>\n",
       "      <td>5.581028</td>\n",
       "    </tr>\n",
       "    <tr>\n",
       "      <th>2518</th>\n",
       "      <td>11.020498</td>\n",
       "      <td>8.083308</td>\n",
       "      <td>6.305675</td>\n",
       "      <td>9.495061</td>\n",
       "      <td>10.966315</td>\n",
       "      <td>6.616127</td>\n",
       "      <td>1.837078</td>\n",
       "      <td>2.840885</td>\n",
       "      <td>4.066180</td>\n",
       "      <td>4.993308</td>\n",
       "      <td>...</td>\n",
       "      <td>2.820716</td>\n",
       "      <td>6.367715</td>\n",
       "      <td>7.725672</td>\n",
       "      <td>11.386150</td>\n",
       "      <td>3.082760</td>\n",
       "      <td>5.933682</td>\n",
       "      <td>12.146456</td>\n",
       "      <td>12.151909</td>\n",
       "      <td>1.266973</td>\n",
       "      <td>5.557491</td>\n",
       "    </tr>\n",
       "    <tr>\n",
       "      <th>2519</th>\n",
       "      <td>11.077197</td>\n",
       "      <td>8.045952</td>\n",
       "      <td>6.280119</td>\n",
       "      <td>9.558290</td>\n",
       "      <td>10.714147</td>\n",
       "      <td>6.665144</td>\n",
       "      <td>1.832410</td>\n",
       "      <td>2.824434</td>\n",
       "      <td>4.118356</td>\n",
       "      <td>5.039224</td>\n",
       "      <td>...</td>\n",
       "      <td>2.910190</td>\n",
       "      <td>6.330411</td>\n",
       "      <td>7.827734</td>\n",
       "      <td>11.251487</td>\n",
       "      <td>3.024300</td>\n",
       "      <td>5.748726</td>\n",
       "      <td>12.157309</td>\n",
       "      <td>12.407772</td>\n",
       "      <td>1.267067</td>\n",
       "      <td>5.521283</td>\n",
       "    </tr>\n",
       "    <tr>\n",
       "      <th>2520</th>\n",
       "      <td>11.195435</td>\n",
       "      <td>8.018752</td>\n",
       "      <td>6.369328</td>\n",
       "      <td>9.431612</td>\n",
       "      <td>10.887235</td>\n",
       "      <td>6.666261</td>\n",
       "      <td>1.833393</td>\n",
       "      <td>2.857815</td>\n",
       "      <td>4.073140</td>\n",
       "      <td>4.976367</td>\n",
       "      <td>...</td>\n",
       "      <td>2.845584</td>\n",
       "      <td>6.388466</td>\n",
       "      <td>7.558940</td>\n",
       "      <td>11.368917</td>\n",
       "      <td>3.036645</td>\n",
       "      <td>5.796955</td>\n",
       "      <td>12.101007</td>\n",
       "      <td>12.371280</td>\n",
       "      <td>1.264489</td>\n",
       "      <td>5.570087</td>\n",
       "    </tr>\n",
       "  </tbody>\n",
       "</table>\n",
       "<p>2521 rows × 500 columns</p>\n",
       "</div>"
      ],
      "text/plain": [
       "            0         1         2         3          4         5         6    \\\n",
       "0      1.000000  1.000000  1.000000  1.000000   1.000000  1.000000  1.000000   \n",
       "1      0.994436  0.984732  0.998155  1.001144   1.003361  1.014187  1.006450   \n",
       "2      1.008974  0.975074  1.003524  1.001426   1.020733  1.026922  0.993676   \n",
       "3      0.996179  0.976807  1.007544  1.007576   1.028389  1.029933  0.983366   \n",
       "4      1.013252  0.997563  1.019241  1.001506   1.025347  1.034113  1.003221   \n",
       "...         ...       ...       ...       ...        ...       ...       ...   \n",
       "2516  10.801804  8.073350  6.244688  9.392973  11.460780  6.552679  1.882618   \n",
       "2517  10.751850  8.133873  6.230932  9.492044  11.214149  6.548649  1.860358   \n",
       "2518  11.020498  8.083308  6.305675  9.495061  10.966315  6.616127  1.837078   \n",
       "2519  11.077197  8.045952  6.280119  9.558290  10.714147  6.665144  1.832410   \n",
       "2520  11.195435  8.018752  6.369328  9.431612  10.887235  6.666261  1.833393   \n",
       "\n",
       "           7         8         9    ...       490       491       492  \\\n",
       "0     1.000000  1.000000  1.000000  ...  1.000000  1.000000  1.000000   \n",
       "1     0.989729  1.010932  0.983688  ...  1.025502  0.996272  1.003326   \n",
       "2     0.969199  1.003858  0.990091  ...  1.026225  0.984337  0.999385   \n",
       "3     0.969912  1.007099  0.990394  ...  1.011742  0.975681  1.016988   \n",
       "4     0.963719  1.010958  0.996803  ...  1.016435  0.986386  1.005031   \n",
       "...        ...       ...       ...  ...       ...       ...       ...   \n",
       "2516  2.825771  4.071299  5.082239  ...  2.874998  6.490270  7.608406   \n",
       "2517  2.837450  4.115655  5.049888  ...  2.851748  6.418582  7.689716   \n",
       "2518  2.840885  4.066180  4.993308  ...  2.820716  6.367715  7.725672   \n",
       "2519  2.824434  4.118356  5.039224  ...  2.910190  6.330411  7.827734   \n",
       "2520  2.857815  4.073140  4.976367  ...  2.845584  6.388466  7.558940   \n",
       "\n",
       "            493       494       495        496        497       498       499  \n",
       "0      1.000000  1.000000  1.000000   1.000000   1.000000  1.000000  1.000000  \n",
       "1      1.013883  1.013077  1.025427   1.007476   0.998957  0.983789  0.999579  \n",
       "2      1.005352  1.014587  1.024690   0.983579   0.997849  0.991000  1.026396  \n",
       "3      0.990548  1.029545  1.025337   0.990478   0.995565  0.997780  1.008619  \n",
       "4      1.000308  1.022076  1.027683   0.986156   0.980462  1.012585  1.037836  \n",
       "...         ...       ...       ...        ...        ...       ...       ...  \n",
       "2516  11.496398  3.060163  5.737335  12.229037  12.079727  1.273357  5.606646  \n",
       "2517  11.513145  3.057274  5.833921  12.096301  12.240641  1.281197  5.581028  \n",
       "2518  11.386150  3.082760  5.933682  12.146456  12.151909  1.266973  5.557491  \n",
       "2519  11.251487  3.024300  5.748726  12.157309  12.407772  1.267067  5.521283  \n",
       "2520  11.368917  3.036645  5.796955  12.101007  12.371280  1.264489  5.570087  \n",
       "\n",
       "[2521 rows x 500 columns]"
      ]
     },
     "execution_count": 45,
     "metadata": {},
     "output_type": "execute_result"
    }
   ],
   "source": [
    "# Run the Monte Carlo simulation to forecast 10 years cumulative returns\n",
    "MC_10_year.calc_cumulative_return()"
   ]
  },
  {
   "cell_type": "code",
   "execution_count": 46,
   "metadata": {},
   "outputs": [
    {
     "data": {
      "image/png": "[encoded data removed]",
      "text/plain": [
       "<Figure size 432x288 with 1 Axes>"
      ]
     },
     "metadata": {
      "needs_background": "light"
     },
     "output_type": "display_data"
    }
   ],
   "source": [
    "# Visualize the 10-year Monte Carlo simulation by creating an\n",
    "# overlay line plot\n",
    "MC_sim_Line_plot = MC_10_year.plot_simulation()\n"
   ]
  },
  {
   "cell_type": "code",
   "execution_count": 47,
   "metadata": {},
   "outputs": [
    {
     "data": {
      "image/png": "[encoded data removed]",
      "text/plain": [
       "<Figure size 432x288 with 1 Axes>"
      ]
     },
     "metadata": {
      "needs_background": "light"
     },
     "output_type": "display_data"
    }
   ],
   "source": [
    "# Visualize the probability distribution of the 10-year Monte Carlo simulation \n",
    "# by plotting a histogram\n",
    "MC_sim_dist_plot = MC_10_year.plot_distribution()\n"
   ]
  },
  {
   "cell_type": "code",
   "execution_count": 48,
   "metadata": {},
   "outputs": [
    {
     "data": {
      "text/plain": [
       "count           500.000000\n",
       "mean              6.652442\n",
       "std               4.789158\n",
       "min               0.756065\n",
       "25%               3.590004\n",
       "50%               5.498003\n",
       "75%               8.407675\n",
       "max              40.716599\n",
       "95% CI Lower      1.799226\n",
       "95% CI Upper     19.478189\n",
       "Name: 2520, dtype: float64"
      ]
     },
     "execution_count": 48,
     "metadata": {},
     "output_type": "execute_result"
    }
   ],
   "source": [
    "# Generate summary statistics from the 10-year Monte Carlo simulation results\n",
    "# Save the results as a variable\n",
    "MC_10_year_summary_stats = MC_10_year.summarize_cumulative_return()\n",
    "\n",
    "\n",
    "# Review the 10-year Monte Carlo summary statistics\n",
    "MC_10_year_summary_stats "
   ]
  },
  {
   "cell_type": "markdown",
   "metadata": {},
   "source": [
    "### Answer the following questions:"
   ]
  },
  {
   "cell_type": "markdown",
   "metadata": {},
   "source": [
    "#### Question: Using the current value of only the stock and bond portion of the member's portfolio and the summary statistics that you generated from the new Monte Carlo simulation, what are the lower and upper bounds for the expected value of the portfolio (with the new weights) with a 95% confidence interval?"
   ]
  },
  {
   "cell_type": "code",
   "execution_count": 49,
   "metadata": {},
   "outputs": [
    {
     "name": "stdout",
     "output_type": "stream",
     "text": [
      "The current the current balance of the stock and bond portfolio is $73438.20\n"
     ]
    }
   ],
   "source": [
    "# Print the current balance of the stock and bond portion of the members portfolio\n",
    "print(f\"The current the current balance of the stock and bond portfolio is ${total_stocks_bonds:0.2f}\")\n"
   ]
  },
  {
   "cell_type": "code",
   "execution_count": 51,
   "metadata": {},
   "outputs": [
    {
     "name": "stdout",
     "output_type": "stream",
     "text": [
      "There is a 95% chance that an initial investment of $73438.20 in the portfolio over the next 10 years will end within in the range of $ 838874.39 and $ 21092278.81.\n"
     ]
    }
   ],
   "source": [
    "# Use the lower and upper `95%` confidence intervals to calculate the range of the possible outcomes for the current stock/bond portfolio\n",
    "ci_lower_ten_cumulative_return = MC_10_year_summary_stats[8] * total_stocks_bonds\n",
    "ci_upper_ten_cumulative_return =  MC_10_year_summary_stats[9] * total_stocks_bonds\n",
    "\n",
    "# Print the result of your calculations\n",
    "print(f\"There is a 95% chance that an initial investment of $73438.20 in the portfolio\"\n",
    "  f\" over the next 10 years will end within in the range of\"\n",
    "  f\" ${ci_lower_thirty_cumulative_return: .2f} and ${ci_upper_thirty_cumulative_return: .2f}.\")\n"
   ]
  },
  {
   "cell_type": "code",
   "execution_count": 52,
   "metadata": {},
   "outputs": [
    {
     "name": "stdout",
     "output_type": "stream",
     "text": [
      "There is a 95% chance that a current balance of $73438.20 in the portfolio over the next 30 years will end within in the range of $ 838874.39 and $ 21092278.81.\n"
     ]
    }
   ],
   "source": [
    "#compare 30 vs 10 years\n",
    "print(f\"There is a 95% chance that a current balance of $73438.20 in the portfolio\"\n",
    "  f\" over the next 30 years will end within in the range of\"\n",
    "  f\" ${ci_lower_thirty_cumulative_return: .2f} and ${ci_upper_thirty_cumulative_return: .2f}.\")"
   ]
  },
  {
   "cell_type": "markdown",
   "metadata": {},
   "source": [
    "#### Question: Will weighting the portfolio more heavily to stocks allow the credit union members to retire after only 10 years?"
   ]
  },
  {
   "cell_type": "raw",
   "metadata": {},
   "source": [
    "**Answer** there will be the same "
   ]
  },
  {
   "cell_type": "code",
   "execution_count": null,
   "metadata": {},
   "outputs": [],
   "source": []
  }
 ],
 "metadata": {
  "kernelspec": {
   "display_name": "dev",
   "language": "python",
   "name": "dev"
  },
  "language_info": {
   "codemirror_mode": {
    "name": "ipython",
    "version": 3
   },
   "file_extension": ".py",
   "mimetype": "text/x-python",
   "name": "python",
   "nbconvert_exporter": "python",
   "pygments_lexer": "ipython3",
   "version": "3.7.10"
  }
 },
 "nbformat": 4,
 "nbformat_minor": 4
}
